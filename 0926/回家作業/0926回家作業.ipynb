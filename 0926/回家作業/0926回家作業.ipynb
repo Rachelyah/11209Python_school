{
 "cells": [
  {
   "cell_type": "code",
   "execution_count": null,
   "metadata": {},
   "outputs": [],
   "source": [
    "# 十八啦遊戲\n",
    "# 四個骰子隨機骰出四個數字\n",
    "# 當有兩個骰子數字相同時，另外兩個骰子數字相加為分數\n",
    "# 當有三個骰子數字相同時，不算分數\n",
    "# 當有四個骰子數字相同時，叫做豹子(6666>5555>4444>3333>2222>1111)\n",
    "# 四個骰子不一樣的時候，不算分數\n",
    "# 四個骰子的點數分成兩組成對時，以數字高者分數為主計算\n",
    "# 不算分數的要重新骰"
   ]
  }
 ],
 "metadata": {
  "language_info": {
   "name": "python"
  },
  "orig_nbformat": 4
 },
 "nbformat": 4,
 "nbformat_minor": 2
}
