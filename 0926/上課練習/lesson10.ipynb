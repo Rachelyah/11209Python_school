{
 "cells": [
  {
   "cell_type": "code",
   "execution_count": 2,
   "metadata": {},
   "outputs": [
    {
     "name": "stdout",
     "output_type": "stream",
     "text": [
      "hi\n"
     ]
    }
   ],
   "source": [
    "# def自訂fuction\n",
    "\n",
    "def hiAlvis():  # 定義一個叫hiAlvis的函式\n",
    "    print(\"hi\") # 裡面是印出hi字串\n",
    "\n",
    "hiAlvis()"
   ]
  },
  {
   "cell_type": "code",
   "execution_count": 15,
   "metadata": {},
   "outputs": [
    {
     "name": "stdout",
     "output_type": "stream",
     "text": [
      "27\n",
      "================猜數字遊戲================:\n",
      "\n",
      "恭喜你，猜對了，答案是27！\n",
      "你一共猜了1次\n",
      "還要繼續嗎？(y/n)50\n",
      "================猜數字遊戲================:\n",
      "\n",
      "恭喜你，猜對了，答案是50！\n",
      "你一共猜了1次\n",
      "還要繼續嗎？(y/n)遊戲結束\n"
     ]
    }
   ],
   "source": [
    "# 用def改寫0922猜數字遊戲的題目\n",
    "# def有簡化的功能，所以應該在外面，整個程式變很短讚喔\n",
    "\n",
    "import random\n",
    "import pyinputplus as pyip\n",
    "def playgame():\n",
    "    min = 1\n",
    "    max = 100\n",
    "    count = 0\n",
    "    answer = random.randint(1, 100)\n",
    "    print(answer)\n",
    "    print(\"================猜數字遊戲================:\\n\")\n",
    "    while (True):\n",
    "        count += 1\n",
    "        keyin = int(input(f\"請輸入要猜的數字{min}~{max}:\"))\n",
    "        if (1 <= keyin <= max): # random的module可以這樣寫\n",
    "            if keyin == answer:\n",
    "                print(f\"恭喜你，猜對了，答案是{answer}！\")\n",
    "                break\n",
    "            elif keyin > answer:\n",
    "                max = keyin - 1\n",
    "                print(f\"再小一點\")\n",
    "            elif keyin < answer:\n",
    "                min = keyin + 1\n",
    "                print(f\"再大一點\")\n",
    "            else:\n",
    "                print(f\"請輸入提示範圍內的數字\")\n",
    "    print(f\"你一共猜了{count}次\")\n",
    "while (True):\n",
    "    playgame()\n",
    "    answer = pyip.inputYesNo(prompt=\"還要繼續嗎？(y/n)\",yesVal='y', noVal='n')\n",
    "    if not (answer == 'y'):\n",
    "        break\n",
    "print(\"遊戲結束\")\n",
    "        "
   ]
  },
  {
   "cell_type": "code",
   "execution_count": 8,
   "metadata": {},
   "outputs": [
    {
     "name": "stdout",
     "output_type": "stream",
     "text": [
      "82\n",
      "================猜數字遊戲================:\n",
      "\n",
      "恭喜你，猜對了，答案是82！\n",
      "還要繼續嗎？(y/n)遊戲結束\n"
     ]
    }
   ],
   "source": [
    "# 改寫0922猜數字遊戲的題目\n",
    "import random\n",
    "import pyinputplus as pyip\n",
    "\n",
    "while (True):\n",
    "    min = 1\n",
    "    max = 100\n",
    "    count = 0\n",
    "    answer = random.randint(1, 100)\n",
    "    print(answer)\n",
    "    print(\"================猜數字遊戲================:\\n\")\n",
    "\n",
    "    while (True):\n",
    "        count += 1\n",
    "        keyin = int(input(f\"請輸入要猜的數字{min}~{max}:\"))\n",
    "        if (1 <= keyin <= max): # random的module可以這樣寫\n",
    "            if keyin == answer:\n",
    "                print(f\"恭喜你，猜對了，答案是{answer}！\")\n",
    "                break\n",
    "            elif keyin > answer:\n",
    "                max = keyin - 1\n",
    "                print(f\"再小一點\")\n",
    "            elif keyin < answer:\n",
    "                min = keyin + 1\n",
    "                print(f\"再大一點\")\n",
    "        else:\n",
    "            print(f\"請輸入提示範圍內的數字\")\n",
    "\n",
    "        print(f\"你一共猜了{count}次\")      \n",
    "    answer = pyip.inputYesNo(prompt=\"還要繼續嗎？(y/n)\",yesVal='y', noVal='n')\n",
    "    if not (answer == 'y'):\n",
    "        print(\"遊戲結束\")\n",
    "        break"
   ]
  },
  {
   "cell_type": "code",
   "execution_count": 16,
   "metadata": {},
   "outputs": [
    {
     "data": {
      "text/plain": [
       "50"
      ]
     },
     "execution_count": 16,
     "metadata": {},
     "output_type": "execute_result"
    }
   ],
   "source": [
    "# retrun回傳值\n",
    "def rect_area(width:int, heigh:int) -> int: #冒號後面補充資料類型，收到引數\n",
    "    return width * heigh #帶入運算，回傳結果\n",
    "\n",
    "area = rect_area(10,5)\n",
    "area"
   ]
  },
  {
   "cell_type": "code",
   "execution_count": 17,
   "metadata": {},
   "outputs": [],
   "source": [
    "# 先設定自訂函式，有幾種引數呼叫法\n",
    "def menu(wine:str, entree:str, dessert:str):\n",
    "    print(f\"餐前酒：{wine}\")\n",
    "    print(f\"主餐：{entree}\")\n",
    "    print(f\"甜點：{dessert}\")"
   ]
  },
  {
   "cell_type": "code",
   "execution_count": 18,
   "metadata": {},
   "outputs": [
    {
     "name": "stdout",
     "output_type": "stream",
     "text": [
      "餐前酒：白酒\n",
      "主餐：牛排\n",
      "甜點：蛋糕\n"
     ]
    }
   ],
   "source": [
    "# 依照引數位置呼叫，要依照參數的排序\n",
    "menu(\"白酒\",\"牛排\", \"蛋糕\")"
   ]
  },
  {
   "cell_type": "code",
   "execution_count": 19,
   "metadata": {},
   "outputs": [
    {
     "name": "stdout",
     "output_type": "stream",
     "text": [
      "餐前酒：白酒\n",
      "主餐：牛排\n",
      "甜點：蛋糕\n"
     ]
    }
   ],
   "source": [
    "# 引數名稱的呼叫\n",
    "menu(wine=\"白酒\", entree=\"牛排\",dessert=\"蛋糕\")"
   ]
  },
  {
   "cell_type": "code",
   "execution_count": 20,
   "metadata": {},
   "outputs": [
    {
     "name": "stdout",
     "output_type": "stream",
     "text": [
      "餐前酒：白酒\n",
      "主餐：牛排\n",
      "甜點：蛋糕\n"
     ]
    }
   ],
   "source": [
    "# 引數名稱的呼叫，可以不依照順序\n",
    "menu(wine=\"白酒\", dessert=\"蛋糕\", entree=\"牛排\")"
   ]
  },
  {
   "cell_type": "code",
   "execution_count": 21,
   "metadata": {},
   "outputs": [
    {
     "name": "stdout",
     "output_type": "stream",
     "text": [
      "餐前酒：白酒\n",
      "主餐：牛排\n",
      "甜點：蛋糕\n"
     ]
    }
   ],
   "source": [
    "# 引數位置與引數名稱的混合呼叫\n",
    "# 前面一定要用引數位置，後面使用引數名稱呼叫\n",
    "# 使用引數名稱，後面的引數全部要用引數名稱\n",
    "menu(\"白酒\", dessert=\"蛋糕\", entree=\"牛排\")\n",
    "# 第一個一定要用引數位置\n",
    "# 後面位置可以混，但要搭配引數名稱說明"
   ]
  },
  {
   "cell_type": "code",
   "execution_count": 29,
   "metadata": {},
   "outputs": [
    {
     "name": "stdout",
     "output_type": "stream",
     "text": [
      "主菜:雞腿\n",
      "配菜1:豆芽菜\n",
      "配菜2:甜不辣\n",
      "配菜3:青江菜\n"
     ]
    }
   ],
   "source": [
    "# 參數可以有defult value\n",
    "# 沒有defult value的一定要給引數值才能呼叫\n",
    "\n",
    "def order(primary:str, second1:str=\"豆芽菜\", second2:str=\"甜不辣\", second3:str=\"海帶芽\"):\n",
    "    print(f\"主菜:{primary}\")\n",
    "    print(f\"配菜1:{second1}\")\n",
    "    print(f\"配菜2:{second2}\")\n",
    "    print(f\"配菜3:{second3}\")\n",
    "\n",
    "order(\"雞腿\", second3=\"青江菜\") \n",
    "# 第一個引數值用位置呼叫，第二個用引數名稱說明，其他沒有呼叫的自動出現default value\n",
    "# 如果在呼叫的引數值有新的數值，則會覆蓋掉default value"
   ]
  },
  {
   "cell_type": "code",
   "execution_count": 36,
   "metadata": {},
   "outputs": [
    {
     "name": "stdout",
     "output_type": "stream",
     "text": [
      "('霸王龍蝦', '薑汁燒肉', '冰淇淋', '蝦蟹貝品', '特選生食小砵', '生蠔', '加拿大黃金蟹', '松葉蟹', '台灣紅蟳', '日本A5和牛炙燒握壽司')\n"
     ]
    }
   ],
   "source": [
    "# 參數值加入*號＞沒有限定引數位置、呼叫數量\n",
    "# (阿就吃到飽可以吃很多食物又沒限定)\n",
    "# 把所有結果集合到turple元組裡\n",
    "\n",
    "def eatToDie_101(*food:str):\n",
    "    print(food)\n",
    "\n",
    "eatToDie_101(\"霸王龍蝦\", \"薑汁燒肉\",\"冰淇淋\", \"蝦蟹貝品\", \"特選生食小砵\", \"生蠔\", \"加拿大黃金蟹\", \"松葉蟹\", \"台灣紅蟳\", \"日本A5和牛炙燒握壽司\")"
   ]
  },
  {
   "cell_type": "code",
   "execution_count": 35,
   "metadata": {},
   "outputs": [
    {
     "name": "stdout",
     "output_type": "stream",
     "text": [
      "{'first': '大阪燒', 'second': '章魚燒', 'third': '鐵火捲', 'forth': '鹽烤香魚'}\n"
     ]
    }
   ],
   "source": [
    "# ** 沒有限定數量的引數名稱\n",
    "# 出現的'first': 是dictionary字典型態(之後會教)\n",
    "# 一定要指名，把函式餐數的內容收集至dictionary中，加上dic字典型態說結果的值是第幾個值\n",
    "\n",
    "def buffet_bella(**food):\n",
    "    print(food)\n",
    "\n",
    "buffet_bella(first=\"大阪燒\", second=\"章魚燒\", third=\"鐵火捲\", forth=\"鹽烤香魚\")"
   ]
  }
 ],
 "metadata": {
  "kernelspec": {
   "display_name": ".venv",
   "language": "python",
   "name": "python3"
  },
  "language_info": {
   "codemirror_mode": {
    "name": "ipython",
    "version": 3
   },
   "file_extension": ".py",
   "mimetype": "text/x-python",
   "name": "python",
   "nbconvert_exporter": "python",
   "pygments_lexer": "ipython3",
   "version": "3.10.8"
  },
  "orig_nbformat": 4
 },
 "nbformat": 4,
 "nbformat_minor": 2
}
