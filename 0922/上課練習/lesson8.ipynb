{
 "cells": [
  {
   "cell_type": "code",
   "execution_count": 11,
   "metadata": {},
   "outputs": [
    {
     "name": "stdout",
     "output_type": "stream",
     "text": [
      "0\n",
      "1\n",
      "2\n",
      "3\n",
      "4\n",
      "5\n",
      "6\n",
      "7\n",
      "8\n",
      "9\n",
      "0\n",
      "2\n",
      "4\n",
      "6\n",
      "8\n"
     ]
    }
   ],
   "source": [
    "# 明確知道要執行幾次的for in迴圈\n",
    "# 用法 for 變數 in range (start, stop, strp=1)\n",
    "# range 出現數列\n",
    "\n",
    "for i in range(10): #我要0-10的數列，最後一個數會不包含\n",
    "    print(i)\n",
    "\n",
    "for x in range(0,10,2): #我要0-10的數列，每個數間隔2\n",
    "    print(x)"
   ]
  },
  {
   "cell_type": "code",
   "execution_count": 22,
   "metadata": {},
   "outputs": [
    {
     "name": "stdout",
     "output_type": "stream",
     "text": [
      "1加到100等於5050\n"
     ]
    }
   ],
   "source": [
    "# 1~100的加總\n",
    "\n",
    "total = 0\n",
    "for x in range(1,101):\n",
    "    total += x\n",
    "print(f\"1加到100等於{total}\")"
   ]
  },
  {
   "cell_type": "code",
   "execution_count": 25,
   "metadata": {},
   "outputs": [
    {
     "name": "stdout",
     "output_type": "stream",
     "text": [
      "請輸入起始值5\n",
      "請輸入結束值10\n",
      "5~10=45\n"
     ]
    }
   ],
   "source": [
    "# 如果1~100是可以讓大家自行輸入的數字？\n",
    "# 起始值&結束值讓大家自己設定，range內的數字變成變數\n",
    "\n",
    "import pyinputplus as pyip\n",
    "start=pyip.inputInt(prompt=\"請輸入起始值\")\n",
    "print(start)\n",
    "end=pyip.inputInt(prompt=\"請輸入結束值\")\n",
    "print(end)\n",
    "\n",
    "total=0\n",
    "for y in range(start, end+1):\n",
    "    total += y\n",
    "\n",
    "print(f\"{start}~{end}={total}\")"
   ]
  },
  {
   "cell_type": "code",
   "execution_count": 37,
   "metadata": {},
   "outputs": [
    {
     "name": "stdout",
     "output_type": "stream",
     "text": [
      "i=1\n",
      "j=1,j=2,j=3,j=4,j=5,j=6,j=7,j=8,j=9,\n",
      "i=2\n",
      "j=1,j=2,j=3,j=4,j=5,j=6,j=7,j=8,j=9,\n",
      "i=3\n",
      "j=1,j=2,j=3,j=4,j=5,j=6,j=7,j=8,j=9,\n",
      "i=4\n",
      "j=1,j=2,j=3,j=4,j=5,j=6,j=7,j=8,j=9,\n",
      "i=5\n",
      "j=1,j=2,j=3,j=4,j=5,j=6,j=7,j=8,j=9,\n",
      "i=6\n",
      "j=1,j=2,j=3,j=4,j=5,j=6,j=7,j=8,j=9,\n",
      "i=7\n",
      "j=1,j=2,j=3,j=4,j=5,j=6,j=7,j=8,j=9,\n",
      "i=8\n",
      "j=1,j=2,j=3,j=4,j=5,j=6,j=7,j=8,j=9,\n",
      "i=9\n",
      "j=1,j=2,j=3,j=4,j=5,j=6,j=7,j=8,j=9,\n"
     ]
    }
   ],
   "source": [
    "# 巢狀迴圈(for中的for)\n",
    "for i in range(1,10):\n",
    "    print(f\"i={i}\") \n",
    "    for j in range(1,10):\n",
    "        print(f\"j={j}\",end=\",\") #原本預設的end=\"\\n\"，改為end=\",\"\n",
    "    print() #輸出空的內容=自動換行\n",
    "\n",
    "# 當i=1時，j=1~9"
   ]
  },
  {
   "cell_type": "code",
   "execution_count": 38,
   "metadata": {},
   "outputs": [
    {
     "name": "stdout",
     "output_type": "stream",
     "text": [
      "1*1=1,1*2=2,1*3=3,1*4=4,1*5=5,1*6=6,1*7=7,1*8=8,1*9=9,\n",
      "2*1=2,2*2=4,2*3=6,2*4=8,2*5=10,2*6=12,2*7=14,2*8=16,2*9=18,\n",
      "3*1=3,3*2=6,3*3=9,3*4=12,3*5=15,3*6=18,3*7=21,3*8=24,3*9=27,\n",
      "4*1=4,4*2=8,4*3=12,4*4=16,4*5=20,4*6=24,4*7=28,4*8=32,4*9=36,\n",
      "5*1=5,5*2=10,5*3=15,5*4=20,5*5=25,5*6=30,5*7=35,5*8=40,5*9=45,\n",
      "6*1=6,6*2=12,6*3=18,6*4=24,6*5=30,6*6=36,6*7=42,6*8=48,6*9=54,\n",
      "7*1=7,7*2=14,7*3=21,7*4=28,7*5=35,7*6=42,7*7=49,7*8=56,7*9=63,\n",
      "8*1=8,8*2=16,8*3=24,8*4=32,8*5=40,8*6=48,8*7=56,8*8=64,8*9=72,\n",
      "9*1=9,9*2=18,9*3=27,9*4=36,9*5=45,9*6=54,9*7=63,9*8=72,9*9=81,\n"
     ]
    }
   ],
   "source": [
    "# 巢狀迴圈(for中的for) \n",
    "# 另一種表示法\n",
    "\n",
    "for i in range(1,10):\n",
    "    for j in range(1,10):\n",
    "        print(f\"{i}*{j}={i*j}\",end=\",\") #原本預設的end=\"\\n\"，改為end=\",\"\n",
    "    print() #輸出空的內容=自動換行\n",
    "\n",
    "# 當i=1時，j=1~9"
   ]
  },
  {
   "cell_type": "code",
   "execution_count": 27,
   "metadata": {},
   "outputs": [
    {
     "name": "stdout",
     "output_type": "stream",
     "text": [
      "小雞 100\n",
      "兩大類 0\n",
      "小喵 80\n",
      "小蟲 60\n"
     ]
    }
   ],
   "source": [
    "grade_list = [(\"小雞\", 100), (\"兩大類\", 0), (\"小喵\", 80), (\"小蟲\", 60)]\n",
    "for item in grade_list:\n",
    "    print(item[0], item[1])"
   ]
  },
  {
   "cell_type": "code",
   "execution_count": 43,
   "metadata": {},
   "outputs": [
    {
     "name": "stdout",
     "output_type": "stream",
     "text": [
      "1 * 1 = 1   1 * 2 = 2   1 * 3 = 3   1 * 4 = 4   1 * 5 = 5   1 * 6 = 6   1 * 7 = 7   1 * 8 = 8   1 * 9 = 9   \n",
      "2 * 1 = 2   2 * 2 = 4   2 * 3 = 6   2 * 4 = 8   2 * 5 = 10  2 * 6 = 12  2 * 7 = 14  2 * 8 = 16  2 * 9 = 18  \n",
      "3 * 1 = 3   3 * 2 = 6   3 * 3 = 9   3 * 4 = 12  3 * 5 = 15  3 * 6 = 18  3 * 7 = 21  3 * 8 = 24  3 * 9 = 27  \n",
      "4 * 1 = 4   4 * 2 = 8   4 * 3 = 12  4 * 4 = 16  4 * 5 = 20  4 * 6 = 24  4 * 7 = 28  4 * 8 = 32  4 * 9 = 36  \n",
      "5 * 1 = 5   5 * 2 = 10  5 * 3 = 15  5 * 4 = 20  5 * 5 = 25  5 * 6 = 30  5 * 7 = 35  5 * 8 = 40  5 * 9 = 45  \n",
      "6 * 1 = 6   6 * 2 = 12  6 * 3 = 18  6 * 4 = 24  6 * 5 = 30  6 * 6 = 36  6 * 7 = 42  6 * 8 = 48  6 * 9 = 54  \n",
      "7 * 1 = 7   7 * 2 = 14  7 * 3 = 21  7 * 4 = 28  7 * 5 = 35  7 * 6 = 42  7 * 7 = 49  7 * 8 = 56  7 * 9 = 63  \n",
      "8 * 1 = 8   8 * 2 = 16  8 * 3 = 24  8 * 4 = 32  8 * 5 = 40  8 * 6 = 48  8 * 7 = 56  8 * 8 = 64  8 * 9 = 72  \n",
      "9 * 1 = 9   9 * 2 = 18  9 * 3 = 27  9 * 4 = 36  9 * 5 = 45  9 * 6 = 54  9 * 7 = 63  9 * 8 = 72  9 * 9 = 81  \n"
     ]
    }
   ],
   "source": [
    "# 加入字串的設定\n",
    "\n",
    "for i in range(1,10):\n",
    "    for j in range(1,10):\n",
    "        print(f\"{i:<2}*{j:2} = {i*j:<2}\",end=\"  \") \n",
    "    print() "
   ]
  },
  {
   "cell_type": "code",
   "execution_count": 46,
   "metadata": {},
   "outputs": [
    {
     "name": "stdout",
     "output_type": "stream",
     "text": [
      "成年\n"
     ]
    }
   ],
   "source": [
    "# not運算子的使用\n",
    "# 結果是一樣的，但是執行的程式區塊不一樣(當然結果要改)\n",
    "\n",
    "age=18\n",
    "if age >= 18:\n",
    "    print(\"成年\")\n",
    "else: print(\"未成年\")"
   ]
  },
  {
   "cell_type": "code",
   "execution_count": 49,
   "metadata": {},
   "outputs": [
    {
     "name": "stdout",
     "output_type": "stream",
     "text": [
      "成年\n"
     ]
    }
   ],
   "source": [
    "# not運算子的使用\n",
    "\n",
    "age=18\n",
    "if not (age >= 18):\n",
    "    print(\"未成年\")\n",
    "else: print(\"成年\")"
   ]
  },
  {
   "cell_type": "code",
   "execution_count": 52,
   "metadata": {},
   "outputs": [
    {
     "name": "stdout",
     "output_type": "stream",
     "text": [
      "1加到10=55\n"
     ]
    }
   ],
   "source": [
    "# 用while迴圈三步驟寫明確知道執行幾次的例子\n",
    "# 寫1加到10\n",
    "\n",
    "total=0\n",
    "x = 1\n",
    "while x <= 10: #當X<=10時，while的結果是true，執行後面的運算式\n",
    "    total += x #total=total+x\n",
    "    x += 1     #x=x+1\n",
    "#再重新回到while判斷\n",
    "\n",
    "print(f\"1加到10={total}\")"
   ]
  },
  {
   "cell_type": "code",
   "execution_count": 56,
   "metadata": {},
   "outputs": [
    {
     "name": "stdout",
     "output_type": "stream",
     "text": [
      "1加到100 = 5050\n"
     ]
    }
   ],
   "source": [
    "# 1~100的加總，用while語法做\n",
    "\n",
    "total = 0\n",
    "y = 1\n",
    "\n",
    "while y <= 100:\n",
    "    total += y\n",
    "    y += 1\n",
    "\n",
    "print(f\"1加到100 = {total}\")"
   ]
  },
  {
   "cell_type": "code",
   "execution_count": null,
   "metadata": {},
   "outputs": [],
   "source": [
    "\n"
   ]
  }
 ],
 "metadata": {
  "kernelspec": {
   "display_name": ".venv",
   "language": "python",
   "name": "python3"
  },
  "language_info": {
   "codemirror_mode": {
    "name": "ipython",
    "version": 3
   },
   "file_extension": ".py",
   "mimetype": "text/x-python",
   "name": "python",
   "nbconvert_exporter": "python",
   "pygments_lexer": "ipython3",
   "version": "3.10.8"
  },
  "orig_nbformat": 4
 },
 "nbformat": 4,
 "nbformat_minor": 2
}
