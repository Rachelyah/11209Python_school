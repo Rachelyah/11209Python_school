{
 "cells": [
  {
   "cell_type": "code",
   "execution_count": 5,
   "metadata": {},
   "outputs": [
    {
     "name": "stdout",
     "output_type": "stream",
     "text": [
      "請輸入1月存款金額:10000\n",
      "距離達成目標還有：29800\n",
      "----------------------------\n",
      "請輸入2月存款金額:10000\n",
      "距離達成目標還有：19800\n",
      "----------------------------\n",
      "請輸入3月存款金額:10000\n",
      "距離達成目標還有：9800\n",
      "----------------------------\n",
      "請輸入4月存款金額:985523\n",
      "----------------------------\n",
      "恭喜！已經存夠了！總共存了4月，存款為1015523元\n"
     ]
    }
   ],
   "source": [
    "#小明想要存錢買一輛機車,機車每輛39800元，他將每月存的錢輸入，當存款足夠買機車時，就顯示提示訊息告知\n",
    "\n",
    "import pyinputplus as pyip\n",
    "\n",
    "total = 0\n",
    "month=0\n",
    "\n",
    "while (total < 39800):\n",
    "    month += 1\n",
    "    input_value = pyip.inputInt(f\"請輸入{month}月存款金額:\")\n",
    "    print(input_value)\n",
    "    total += input_value\n",
    "    if total < 39800:\n",
    "        print(f\"距離達成目標還有：{39800-total}\") \n",
    "    print('----------------------------')\n",
    "\n",
    "print(f'恭喜！已經存夠了！總共存了{month}月，存款為{total}元')\n"
   ]
  },
  {
   "cell_type": "code",
   "execution_count": 13,
   "metadata": {},
   "outputs": [
    {
     "name": "stdout",
     "output_type": "stream",
     "text": [
      "請輸入英文字母(按q會離開)：a\n",
      "請輸入英文字母(按q會離開)：b\n",
      "請輸入英文字母(按q會離開)：v\n",
      "請輸入英文字母(按q會離開)：q\n"
     ]
    }
   ],
   "source": [
    "# while true + break\n",
    "\n",
    "while(True): #如果沒有括號要空一格\n",
    "    abc=pyip.inputStr(\"請輸入英文字母(按q會離開)：\")\n",
    "    print(abc)\n",
    "    if abc == 'q':\n",
    "        break\n",
    "        print(f\"你輸入的是：{abc}\")"
   ]
  },
  {
   "cell_type": "code",
   "execution_count": 21,
   "metadata": {},
   "outputs": [
    {
     "name": "stdout",
     "output_type": "stream",
     "text": [
      "你輸入的是：11，平方是121\n",
      "你輸入的是：55，平方是3025\n",
      "不做動作，請重新輸入\n"
     ]
    }
   ],
   "source": [
    "# 按q會離開\n",
    "# 奇數輸出平方\n",
    "# 偶數不做任何動作\n",
    "\n",
    "while (True):\n",
    "    keyin=input(\"請輸入整數，或是按q離開：\")\n",
    "    if keyin == 'q':\n",
    "        break\n",
    "    value=int(keyin)\n",
    "    if value % 2 == 0: \n",
    "        print('不做動作，請重新輸入')\n",
    "        continue\n",
    "    else:\n",
    "        print(f\"你輸入的是：{value}，平方是{value ** 2}\")"
   ]
  },
  {
   "cell_type": "code",
   "execution_count": 22,
   "metadata": {},
   "outputs": [
    {
     "name": "stdout",
     "output_type": "stream",
     "text": [
      "不做動作，請重新輸入\n",
      "不做動作，請重新輸入\n",
      "不做動作，請重新輸入\n",
      "你輸入的是：33，平方是1089\n",
      "輸入錯誤，請重新輸入\n"
     ]
    }
   ],
   "source": [
    "# 加入try:、except:\n",
    "\n",
    "# 如果不是輸入整數分數？(e.g.輸入314a) 會出現 raise ValueError\n",
    "# 不希望整個當機，分隔為不同程式區塊\n",
    "# try(出現錯誤的程式區塊):\n",
    "    # 如果出現raise ValueError，停止執行try區塊\n",
    "    # 如果沒出錯，繼續執行try，通常會把這邊的寫到else\n",
    "# except:\n",
    "    # raise ValueError 發生時，except開始執行\n",
    "# else:\n",
    "    # 沒有raise ValueError ，執行else\n",
    "\n",
    "while (True):\n",
    "    keyin=input(\"請輸入整數，或是按q離開：\")\n",
    "    if keyin == 'q':\n",
    "        break\n",
    "    \n",
    "    try:\n",
    "        value=int(keyin)\n",
    "    \n",
    "    except:\n",
    "        print(\"輸入錯誤，請重新輸入\")\n",
    "        continue\n",
    "\n",
    "    else:\n",
    "        if value % 2 == 0: \n",
    "            print('不做動作，請重新輸入')\n",
    "            continue\n",
    "        else:\n",
    "            print(f\"你輸入的是：{value}，平方是{value ** 2}\")"
   ]
  },
  {
   "cell_type": "code",
   "execution_count": 6,
   "metadata": {},
   "outputs": [
    {
     "name": "stdout",
     "output_type": "stream",
     "text": [
      "你輸入的是：12\n"
     ]
    }
   ],
   "source": [
    "# 嘗試寫一個跟pyip一樣檢查功能格式的迴圈\n",
    "\n",
    "while(True):\n",
    "    try:\n",
    "        value = input(\"請輸入整數\")\n",
    "        input_value = int(value)\n",
    "\n",
    "    except:\n",
    "        print(f\"你輸入的是{value}，豬頭。請輸入整數：\")\n",
    "        continue\n",
    "\n",
    "    else:\n",
    "        print(f\"你輸入的是：{value}\")\n",
    "        break"
   ]
  },
  {
   "cell_type": "code",
   "execution_count": 5,
   "metadata": {},
   "outputs": [
    {
     "name": "stdout",
     "output_type": "stream",
     "text": [
      "你輸入的是：a\n"
     ]
    }
   ],
   "source": [
    "# 待整理\n",
    "while(True):\n",
    "    value = input(\"請輸入整數\")\n",
    "    \n",
    "    try:\n",
    "        type(value) == int == True\n",
    "\n",
    "    except:\n",
    "        print(f\"你輸入的是{value}，豬頭。請輸入整數：\")\n",
    "        continue\n",
    "\n",
    "    else:\n",
    "        print(f\"你輸入的是：{value}\")\n",
    "        break"
   ]
  },
  {
   "cell_type": "code",
   "execution_count": null,
   "metadata": {},
   "outputs": [],
   "source": [
    "while True:\n",
    "    try:\n",
    "        key_in = input(\"請輸入整數:\")\n",
    "        value = int(key_in)\n",
    "    except:\n",
    "        print(f\"{key_in}格式錯誤,請重新輸入\")\n",
    "        continue\n",
    "    else:\n",
    "        if value<=20 and value>=10:\n",
    "            break\n",
    "        else:\n",
    "            print(\"數值必需在10~20之間\")\n",
    "            continue\n",
    "print(value)"
   ]
  },
  {
   "cell_type": "code",
   "execution_count": 12,
   "metadata": {},
   "outputs": [
    {
     "name": "stdout",
     "output_type": "stream",
     "text": [
      "豬頭請輸入整數\n",
      "你輸入的是dd\n"
     ]
    }
   ],
   "source": [
    "while (True):\n",
    "    value=input(\"請輸入整數:\")\n",
    "    try:\n",
    "        input_value=int(value)\n",
    "    except:\n",
    "        print(\"豬頭請輸入整數\")\n",
    "    if 10 < input_value and input_value <= 20:\n",
    "        break\n",
    "    else:\n",
    "        print(\"請輸入介於10-20的整數\")\n",
    "        continue \n",
    "\n",
    "print(f\"你輸入的是{value}\")"
   ]
  },
  {
   "cell_type": "code",
   "execution_count": null,
   "metadata": {},
   "outputs": [],
   "source": [
    "import pyinputplus as pyip\n",
    "a = pyip.inputInt()"
   ]
  },
  {
   "cell_type": "code",
   "execution_count": 13,
   "metadata": {},
   "outputs": [
    {
     "data": {
      "text/plain": [
       "9"
      ]
     },
     "execution_count": 13,
     "metadata": {},
     "output_type": "execute_result"
    }
   ],
   "source": [
    "# 回傳整數的函式\n",
    "# 建立亂數\n",
    "# 建立一個1~10的隨機亂數\n",
    "\n",
    "import random\n",
    "random.randint(1,10)"
   ]
  },
  {
   "cell_type": "code",
   "execution_count": 18,
   "metadata": {},
   "outputs": [
    {
     "ename": "TypeError",
     "evalue": "Random.random() takes no arguments (1 given)",
     "output_type": "error",
     "traceback": [
      "\u001b[1;31m---------------------------------------------------------------------------\u001b[0m",
      "\u001b[1;31mTypeError\u001b[0m                                 Traceback (most recent call last)",
      "\u001b[1;32mc:\\Rachel\\徐國堂\\11209Python_school\\0922\\上課練習\\lesson9_1.ipynb 儲存格 11\u001b[0m line \u001b[0;36m3\n\u001b[0;32m      <a href='vscode-notebook-cell:/c%3A/Rachel/%E5%BE%90%E5%9C%8B%E5%A0%82/11209Python_school/0922/%E4%B8%8A%E8%AA%B2%E7%B7%B4%E7%BF%92/lesson9_1.ipynb#X20sZmlsZQ%3D%3D?line=0'>1</a>\u001b[0m x\u001b[39m=\u001b[39m\u001b[39m0\u001b[39m\n\u001b[0;32m      <a href='vscode-notebook-cell:/c%3A/Rachel/%E5%BE%90%E5%9C%8B%E5%A0%82/11209Python_school/0922/%E4%B8%8A%E8%AA%B2%E7%B7%B4%E7%BF%92/lesson9_1.ipynb#X20sZmlsZQ%3D%3D?line=1'>2</a>\u001b[0m \u001b[39mimport\u001b[39;00m \u001b[39mrandom\u001b[39;00m\n\u001b[1;32m----> <a href='vscode-notebook-cell:/c%3A/Rachel/%E5%BE%90%E5%9C%8B%E5%A0%82/11209Python_school/0922/%E4%B8%8A%E8%AA%B2%E7%B7%B4%E7%BF%92/lesson9_1.ipynb#X20sZmlsZQ%3D%3D?line=2'>3</a>\u001b[0m random\u001b[39m.\u001b[39;49mrandom(\u001b[39m0.0\u001b[39;49m \u001b[39m<\u001b[39;49m\u001b[39m=\u001b[39;49m x \u001b[39m<\u001b[39;49m \u001b[39m1.0\u001b[39;49m)\n",
      "\u001b[1;31mTypeError\u001b[0m: Random.random() takes no arguments (1 given)"
     ]
    }
   ],
   "source": [
    "x=0\n",
    "import random\n",
    "random.random(0.0 <= x < 1.0)"
   ]
  }
 ],
 "metadata": {
  "kernelspec": {
   "display_name": ".venv",
   "language": "python",
   "name": "python3"
  },
  "language_info": {
   "codemirror_mode": {
    "name": "ipython",
    "version": 3
   },
   "file_extension": ".py",
   "mimetype": "text/x-python",
   "name": "python",
   "nbconvert_exporter": "python",
   "pygments_lexer": "ipython3",
   "version": "3.10.8"
  },
  "orig_nbformat": 4
 },
 "nbformat": 4,
 "nbformat_minor": 2
}
