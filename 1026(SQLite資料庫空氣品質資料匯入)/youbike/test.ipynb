{
 "cells": [
  {
   "cell_type": "code",
   "execution_count": 2,
   "metadata": {},
   "outputs": [
    {
     "name": "stdout",
     "output_type": "stream",
     "text": [
      "倒數計時：10\n",
      "倒數計時：9\n",
      "倒數計時：8\n",
      "倒數計時：7\n",
      "倒數計時：6\n",
      "倒數計時：5\n",
      "倒數計時：4\n",
      "倒數計時：3\n",
      "倒數計時：2\n",
      "倒數計時：1\n"
     ]
    }
   ],
   "source": [
    "import time\n",
    "\n",
    "def countdown(n:int)->None:\n",
    "    while n > 0:\n",
    "        print(f'倒數計時：{n}')\n",
    "        n -= 1\n",
    "        time.sleep(5) #每5秒執行一次\n",
    "\n",
    "countdown(10)\n"
   ]
  },
  {
   "cell_type": "code",
   "execution_count": 3,
   "metadata": {},
   "outputs": [
    {
     "name": "stdout",
     "output_type": "stream",
     "text": [
      "倒數計時：10\n"
     ]
    },
    {
     "name": "stdout",
     "output_type": "stream",
     "text": [
      "倒數計時：9\n",
      "倒數計時：8\n",
      "倒數計時：7\n",
      "倒數計時：6\n",
      "倒數計時：5\n",
      "倒數計時：4\n",
      "倒數計時：3\n",
      "倒數計時：2\n",
      "倒數計時：1\n"
     ]
    }
   ],
   "source": [
    "#運用threading模組，在背景執行\n",
    "import time\n",
    "import threading #執行緒的module\n",
    "\n",
    "def countdown(n:int)->None:\n",
    "    while n > 0:\n",
    "        print(f'倒數計時：{n}')\n",
    "        n -= 1\n",
    "        time.sleep(5) \n",
    "\n",
    "t = threading.Thread(target=countdown,args=(10,))   #target, args必須要用引數呼叫，args=(turple)如果只有一個值後面必須要加「,」\n",
    "t.start()"
   ]
  },
  {
   "cell_type": "code",
   "execution_count": 5,
   "metadata": {},
   "outputs": [
    {
     "name": "stdout",
     "output_type": "stream",
     "text": [
      "倒數計時：10\n",
      "小猴子還在做事\n",
      "小猴子還在做事\n",
      "小猴子還在做事\n",
      "小猴子還在做事\n",
      "小猴子還在做事\n",
      "倒數計時：9\n",
      "小猴子還在做事\n",
      "小猴子還在做事\n",
      "小猴子還在做事\n",
      "小猴子還在做事\n",
      "小猴子還在做事\n",
      "倒數計時：8\n",
      "小猴子還在做事\n",
      "小猴子還在做事\n",
      "小猴子還在做事\n",
      "小猴子還在做事\n",
      "小猴子還在做事\n",
      "倒數計時：7\n",
      "小猴子還在做事\n",
      "小猴子還在做事\n",
      "小猴子還在做事\n",
      "小猴子還在做事\n",
      "小猴子還在做事\n",
      "倒數計時：6\n",
      "小猴子還在做事\n",
      "小猴子還在做事\n",
      "小猴子還在做事\n",
      "小猴子還在做事\n",
      "小猴子還在做事\n",
      "倒數計時：5\n",
      "小猴子還在做事\n",
      "小猴子還在做事\n",
      "小猴子還在做事\n",
      "小猴子還在做事\n",
      "小猴子還在做事\n",
      "倒數計時：4\n",
      "小猴子還在做事\n",
      "小猴子還在做事\n",
      "小猴子還在做事\n",
      "小猴子還在做事\n",
      "小猴子還在做事\n",
      "倒數計時：3\n",
      "小猴子還在做事\n",
      "小猴子還在做事\n",
      "小猴子還在做事\n",
      "小猴子還在做事\n",
      "小猴子還在做事\n",
      "倒數計時：2\n",
      "小猴子還在做事\n",
      "小猴子還在做事\n",
      "小猴子還在做事\n",
      "小猴子還在做事\n",
      "小猴子還在做事\n",
      "倒數計時：1\n",
      "小猴子還在做事\n",
      "小猴子還在做事\n",
      "小猴子還在做事\n",
      "小猴子還在做事\n",
      "小猴子還在做事\n",
      "小猴子做完了\n",
      "小猴子執行完畢\n"
     ]
    }
   ],
   "source": [
    "#運用threading模組，在背景執行\n",
    "import time\n",
    "import threading #執行緒的module\n",
    "\n",
    "def countdown(n:int)->None:\n",
    "    while n > 0:\n",
    "        print(f'倒數計時：{n}')\n",
    "        n -= 1\n",
    "        time.sleep(5) \n",
    "\n",
    "t = threading.Thread(target=countdown,args=(10,))   #target, args必須要用引數呼叫，args=(turple)如果只有一個值後面必須要加「,」\n",
    "t.start()\n",
    "\n",
    "while t.is_alive(): #如果thread的執行緒還在進行\n",
    "    print('小猴子還在做事')\n",
    "    time.sleep(1) #每1秒執行一次\n",
    "else:\n",
    "    print('小猴子做完了')\n",
    "\n",
    "t.join()\n",
    "print('小猴子執行完畢')"
   ]
  },
  {
   "cell_type": "code",
   "execution_count": 6,
   "metadata": {},
   "outputs": [
    {
     "name": "stdout",
     "output_type": "stream",
     "text": [
      "倒數計時10\n"
     ]
    },
    {
     "name": "stdout",
     "output_type": "stream",
     "text": [
      "倒數計時9\n",
      "倒數計時8\n",
      "倒數計時7\n",
      "倒數計時6\n",
      "倒數計時5\n",
      "倒數計時4\n",
      "倒數計時3\n",
      "倒數計時2\n",
      "倒數計時1\n"
     ]
    }
   ],
   "source": [
    "from threading import Timer\n",
    "def countdown(n:int)->None:\n",
    "    if n > 0:\n",
    "        print(f\"倒數計時{n}\")\n",
    "        t = Timer(1,countdown,args=(n-1,))  #每隔幾秒做一次\n",
    "        t.start()\n",
    "\n",
    "countdown(n=10)"
   ]
  }
 ],
 "metadata": {
  "kernelspec": {
   "display_name": ".venv",
   "language": "python",
   "name": "python3"
  },
  "language_info": {
   "codemirror_mode": {
    "name": "ipython",
    "version": 3
   },
   "file_extension": ".py",
   "mimetype": "text/x-python",
   "name": "python",
   "nbconvert_exporter": "python",
   "pygments_lexer": "ipython3",
   "version": "3.10.8"
  }
 },
 "nbformat": 4,
 "nbformat_minor": 2
}
