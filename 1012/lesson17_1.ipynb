{
 "cells": [
  {
   "cell_type": "code",
   "execution_count": 17,
   "metadata": {},
   "outputs": [
    {
     "name": "stdout",
     "output_type": "stream",
     "text": [
      "姓名Tom\n",
      "年齡15\n",
      "體重65\n",
      "身高185\n"
     ]
    }
   ],
   "source": [
    "# Class的繼承\n",
    "# Person(obj)，預設會繼承(obj)內的物件，()可以寫也可以不用寫\n",
    "# 在自訂calss裡面，我做初始化設定時，可以寫default值\n",
    "# 如果沒有寫入的資料，就會自己用default值\n",
    "\n",
    "class Person(): \n",
    "    def __init__(self, name, age=18, weight= 70, height= 185):\n",
    "        self.name = name\n",
    "        self.age = age\n",
    "        self.weight = weight\n",
    "        self.height = height\n",
    "\n",
    "#寫一個method\n",
    "    def description(self):\n",
    "        print(f\"姓名{self.name}\")\n",
    "        print(f\"年齡{self.age}\")\n",
    "        print(f\"體重{self.weight}\")\n",
    "        print(f\"身高{self.height}\")\n",
    "\n",
    "p1 = Person(name = \"Tom\", age = 15, weight=65)\n",
    "p1.description()"
   ]
  },
  {
   "cell_type": "markdown",
   "metadata": {},
   "source": [
    "- 建立class Student 繼承 class Person\n",
    "- 在初始化設定中，我多設定一個id，且沒有預設值\n",
    "\n",
    "```\n",
    "def __init__(self, name, id):\n",
    "        self.id = id\n",
    "```\n",
    "\n",
    "- 我繼承class Person()的初始化設定\n",
    "- 因為name沒有default值，我要把它寫入我的設定中\n",
    "- 繼承原本父類別的東西，我需要寫super().__init__(name)\n",
    "- 自己寫self.id=id的初始化設定\n",
    "\n",
    "```\n",
    "    def __init__(self, name, id):\n",
    "        super().__init__(name)\n",
    "        self.id = id\n",
    "```\n",
    "\n",
    "- 那其他Person()裡面有預設值的初始化設定怎麼辦？\n",
    "- kwargs = 預設是一個dict = {}\n",
    "- 我想要在Student()這個class裡面更新我的預設值\n",
    "    1. 在__init__裡面寫入我的新預設值\n",
    "        - kwargs = {'age':25 , 'weight':78, 'height' :155}\n",
    "    2. 在super()裡面寫**kwargs\n",
    "        - super()._init_(name, **kwargs)\n",
    "        - **的意思：我把kwargs的內容(dict)轉變為 age=25, weight=78, height=155(把:轉為=，傳回class Person的預設值中)\n",
    "        - 當我用class Student時，透過super找Person的預設值時，就會一起把我的預設值傳回去\n",
    "```\n",
    "class Student(Person):\n",
    "    def __init__(self, name, id, **kwargs):\n",
    "        kwargs = {'age':25 , 'weight':78, 'height' :155}\n",
    "        super().__init__(name, **kwargs)\n",
    "        self.id = id\n",
    "```\n",
    "- 現在我沒有要改他的預設值，我要都把Person的初始化設定，繼承到我Student中\n",
    "- 在super()._init_()加入**kwargs\n",
    "- 代表不限數量的參數，後面使用class的人可以自己寫入\n",
    "\n",
    "```\n",
    "class Student(Person):\n",
    "    def __init__(self, name, id, **kwargs):\n",
    "        super().__init__(name, **kwargs)\n",
    "        self.id = id\n",
    "```\n",
    "\n",
    "- 代表不限數量的參數，後面使用class的人可以自己寫入"
   ]
  },
  {
   "cell_type": "code",
   "execution_count": 34,
   "metadata": {},
   "outputs": [
    {
     "name": "stdout",
     "output_type": "stream",
     "text": [
      "姓名EE\n",
      "年齡18\n",
      "體重70\n",
      "身高185\n",
      "12345\n"
     ]
    }
   ],
   "source": [
    "#寫一個class Student，並且繼承class Person\n",
    "class Student(Person):\n",
    "    def __init__(self, name, id, **kwargs):\n",
    "        # kwargs = {'age':25 , 'weight':78, 'height' :155}\n",
    "        super().__init__(name, **kwargs)\n",
    "        self.id = id\n",
    "\n",
    "    def description(self):\n",
    "        super().description()\n",
    "        print(self.id)\n",
    "\n",
    "stu1 = Student(name= 'EE', id = '12345' )\n",
    "stu1.description()"
   ]
  },
  {
   "cell_type": "markdown",
   "metadata": {},
   "source": [
    "##### 物件導向的Class繼承(Inheritance)\n",
    "- 可以寫一個通用的Calss，其他子Class會繼承他的屬性跟方法\n",
    "\n",
    "[參考] (https://www.learncodewithmike.com/2020/01/python-inheritance.html)"
   ]
  },
  {
   "cell_type": "code",
   "execution_count": 38,
   "metadata": {},
   "outputs": [
    {
     "name": "stdout",
     "output_type": "stream",
     "text": [
      "姓名Kevin\n",
      "年齡18\n",
      "體重70\n",
      "身高185\n",
      "興趣:swimming\n"
     ]
    }
   ],
   "source": [
    "#練習題：上課後改寫\n",
    "#父Class\n",
    "class Person(): \n",
    "    def __init__(self, name, age=18, weight= 70, height= 185):\n",
    "        self.name = name\n",
    "        self.age = age\n",
    "        self.weight = weight\n",
    "        self.height = height\n",
    "    \n",
    "    def description(self):\n",
    "        print(f\"姓名{self.name}\")\n",
    "        print(f\"年齡{self.age}\")\n",
    "        print(f\"體重{self.weight}\")\n",
    "        print(f\"身高{self.height}\")\n",
    "\n",
    "#子Class\n",
    "class Man(Person):\n",
    "    def __init__(self, name, habit='basketball', **kwargs):\n",
    "        super().__init__(name, **kwargs)\n",
    "        self.habit = habit\n",
    "\n",
    "    def description(self):\n",
    "        super().description()\n",
    "        print(f\"興趣:{self.habit}\")\n",
    "\n",
    "p2 = Man(name = 'Kevin', habit='swimming')\n",
    "p2.description()"
   ]
  }
 ],
 "metadata": {
  "kernelspec": {
   "display_name": ".venv",
   "language": "python",
   "name": "python3"
  },
  "language_info": {
   "codemirror_mode": {
    "name": "ipython",
    "version": 3
   },
   "file_extension": ".py",
   "mimetype": "text/x-python",
   "name": "python",
   "nbconvert_exporter": "python",
   "pygments_lexer": "ipython3",
   "version": "3.10.8"
  }
 },
 "nbformat": 4,
 "nbformat_minor": 2
}
