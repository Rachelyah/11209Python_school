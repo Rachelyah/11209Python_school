{
 "cells": [
  {
   "cell_type": "markdown",
   "metadata": {},
   "source": [
    "0918 上課練習"
   ]
  },
  {
   "cell_type": "code",
   "execution_count": 1,
   "metadata": {},
   "outputs": [
    {
     "data": {
      "text/plain": [
       "(3.5, 2, 'YELLOW', 256)"
      ]
     },
     "execution_count": 1,
     "metadata": {},
     "output_type": "execute_result"
    }
   ],
   "source": [
    "'''tuple 元組'''\n",
    "# 用法 (值, 值) 不用括號也可以\n",
    "7/2, 6//3, 'YELLOW', 2**8"
   ]
  },
  {
   "cell_type": "code",
   "execution_count": 7,
   "metadata": {},
   "outputs": [
    {
     "data": {
      "text/plain": [
       "tuple"
      ]
     },
     "execution_count": 7,
     "metadata": {},
     "output_type": "execute_result"
    }
   ],
   "source": [
    "'''type 查資料類型'''\n",
    "# 用法 type(變數)\n",
    "# 動態資料類型(只有Python跟javascript是這樣，其他都是固定)\n",
    "# 資料類型依照變數內的值決定\n",
    "# 特殊資料才會用\n",
    "\n",
    "n1=5 #int\n",
    "n1=5.0 #float\n",
    "n1='5.0' #str\n",
    "n1=True #bool\n",
    "n1=3, 4, 5 #tuple\n",
    "\n",
    "type(n1) "
   ]
  },
  {
   "cell_type": "code",
   "execution_count": 8,
   "metadata": {},
   "outputs": [
    {
     "data": {
      "text/plain": [
       "10"
      ]
     },
     "execution_count": 8,
     "metadata": {},
     "output_type": "execute_result"
    }
   ],
   "source": [
    "'''變數'''\n",
    "n=10 \n",
    "n+20 #10+20=30，但結果沒有人接收，所以捨棄，沒有改變變數n的內容\n",
    "n"
   ]
  },
  {
   "cell_type": "code",
   "execution_count": 10,
   "metadata": {},
   "outputs": [
    {
     "data": {
      "text/plain": [
       "30"
      ]
     },
     "execution_count": 10,
     "metadata": {},
     "output_type": "execute_result"
    }
   ],
   "source": [
    "# 要讓n變30要怎麼寫\n",
    "n=10\n",
    "n=n+20 #所以也可以寫成複合指定運算子\n",
    "n"
   ]
  },
  {
   "cell_type": "code",
   "execution_count": 11,
   "metadata": {},
   "outputs": [
    {
     "name": "stdout",
     "output_type": "stream",
     "text": [
      "三個數的總和是 37.3\n"
     ]
    }
   ],
   "source": [
    "# 用複合指定運算子運算 \"輸入三個數相加練習題(float)\"\n",
    "total=0\n",
    "keyin=float(input(\"請輸入第一個數:\"))\n",
    "total+=keyin\n",
    "keyin=float(input(\"請輸入第二個數:\"))\n",
    "total+=keyin\n",
    "keyin=float(input(\"請輸入第三個數:\"))\n",
    "total+=keyin\n",
    "print('三個數的總和是', total)"
   ]
  },
  {
   "cell_type": "code",
   "execution_count": 21,
   "metadata": {},
   "outputs": [
    {
     "name": "stdout",
     "output_type": "stream",
     "text": [
      "梯形的面積: 260.55 平方公分\n"
     ]
    }
   ],
   "source": [
    "# 練習題 算梯形面積\n",
    "top=float(input(\"請輸入梯形的上底:\"))\n",
    "bottom=float(input(\"請輸入梯形的下底:\"))\n",
    "height=float(input(\"請輸入梯形的高:\"))\n",
    "area=(top+bottom)*height/2\n",
    "\n",
    "# 如果運算出的結果我想要四捨五入\n",
    "# round(number, ndigits=None) *取到小數點後第幾位\n",
    "print(\"梯形的面積:\", round(area, ndigits=2), \"平方公分\")\n",
    "\n"
   ]
  },
  {
   "cell_type": "code",
   "execution_count": null,
   "metadata": {},
   "outputs": [],
   "source": [
    "# print的預設值\n",
    "# print(*objects, sep=' ', end='\\n', file=None, flush=False)\n",
    "# *objects  > 參數，無限制數量 (呼叫時叫引數值)\n",
    "# sep='  '  > 預設空一格\n",
    "# end='\\n'  > 預設換行\n",
    "# file=None\n",
    "''' > file預設為螢幕輸出'''\n",
    "# flush=False\n",
    "'''# > flush() 方法是用来刷新缓冲区的，即将缓冲区中的数据立刻写入文件，同时清空缓冲区，不需要是被动的等待输出缓冲区写入。一般情况下，文件关闭后会自动刷新缓冲区，但有时你需要在关闭前刷新它，这时就可以使用flush() 方法'''"
   ]
  },
  {
   "cell_type": "code",
   "execution_count": 6,
   "metadata": {},
   "outputs": [
    {
     "data": {
      "text/plain": [
       "(5.94418483337567, 1.8257418583505538)"
      ]
     },
     "execution_count": 6,
     "metadata": {},
     "output_type": "execute_result"
    }
   ],
   "source": [
    "# 標準差(計算一個數列內的數值差)\n",
    "# stdev() statistics 內建的標準差函式\n",
    "\n",
    "import statistics\n",
    "statistics.mean ((1, 2, 3, 4, 5)) # mean(數列)算平均數\n",
    "statistics.mean ((0, 5, 9, 14))\n",
    "#7\n",
    "statistics.mean ((5, 6, 8, 9))\n",
    "#7\n",
    "\n",
    "#用stdev((數列))算標準差\n",
    "statistics.stdev((0, 5, 9, 14))\n",
    "#5.94418483337567\n",
    "\n",
    "statistics.stdev((5, 6, 8, 9))\n",
    "#1.8257418583505538\n",
    "#雖然兩個數列平均都是7，但這個數列標準差較小，代表數列內的資料較密集\n",
    "\n",
    "statistics.stdev((0, 5, 9, 14)), statistics.stdev((5, 6, 8, 9))"
   ]
  },
  {
   "cell_type": "code",
   "execution_count": null,
   "metadata": {},
   "outputs": [],
   "source": [
    "# python的小數點運算有時會有問題\n",
    "# 要精準要用decimal套件模組(用import decimal運用)"
   ]
  },
  {
   "cell_type": "code",
   "execution_count": 12,
   "metadata": {},
   "outputs": [
    {
     "data": {
      "text/plain": [
       "2.9999999999999996"
      ]
     },
     "execution_count": 12,
     "metadata": {},
     "output_type": "execute_result"
    }
   ],
   "source": [
    "# 計算指數log\n",
    "import math #math內的模組\n",
    "math.log(1000, 10) #log(得出結果 1000, 以log 10計算) \n",
    "# 得出1000"
   ]
  },
  {
   "cell_type": "code",
   "execution_count": 10,
   "metadata": {},
   "outputs": [
    {
     "data": {
      "text/plain": [
       "8.712129999831063"
      ]
     },
     "execution_count": 10,
     "metadata": {},
     "output_type": "execute_result"
    }
   ],
   "source": [
    "# 算存款複利練習題 用log有兩種做法(math,statistics )\n",
    "import math\n",
    "math.log(22000/20000) / math.log(1.011)"
   ]
  },
  {
   "cell_type": "code",
   "execution_count": null,
   "metadata": {},
   "outputs": [],
   "source": []
  }
 ],
 "metadata": {
  "kernelspec": {
   "display_name": ".venv",
   "language": "python",
   "name": "python3"
  },
  "language_info": {
   "codemirror_mode": {
    "name": "ipython",
    "version": 3
   },
   "file_extension": ".py",
   "mimetype": "text/x-python",
   "name": "python",
   "nbconvert_exporter": "python",
   "pygments_lexer": "ipython3",
   "version": "3.10.8"
  },
  "orig_nbformat": 4
 },
 "nbformat": 4,
 "nbformat_minor": 2
}
