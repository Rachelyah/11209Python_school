{
 "cells": [
  {
   "cell_type": "markdown",
   "metadata": {},
   "source": [
    "## 外部延伸套件 pyinputplus 使用\n",
    "好處是可以自動辨別input內容是否有誤，並跳出錯誤提醒資訊\n",
    "不用像剛剛一樣一直寫if else做基本把關\n",
    "1. 取小名為 pyip\n",
    "2. 輸入字串 pyip.inputStr\n",
    "3. 輸入數字 pyip.inputNum"
   ]
  },
  {
   "cell_type": "code",
   "execution_count": 2,
   "metadata": {},
   "outputs": [
    {
     "name": "stdout",
     "output_type": "stream",
     "text": [
      "Help on function inputStr in module pyinputplus:\n",
      "\n",
      "inputStr(prompt='', default=None, blank=False, timeout=None, limit=None, strip=None, allowRegexes=None, blockRegexes=None, applyFunc=None, postValidateApplyFunc=None)\n",
      "    Prompts the user to enter any string input. This is similar to Python's ``input()``\n",
      "    and ``raw_input()`` functions, but with PyInputPlus's additional features\n",
      "    such as timeouts, retry limits, stripping, allowlist/blocklist, etc.\n",
      "    \n",
      "    Validation can be performed by the validationFunc argument, which raises\n",
      "    an exception if the input is invalid. The exception message is used to\n",
      "    tell the user why the input is invalid.\n",
      "    \n",
      "    Run ``help(pyinputplus.parameters)`` for an explanation of the common parameters.\n",
      "    \n",
      "    >>> result = inputStr('Enter name> ')\n",
      "    Enter name> Al\n",
      "    >>> result\n",
      "    'Al'\n",
      "\n"
     ]
    }
   ],
   "source": [
    "import pyinputplus as pyip \n",
    "#as + 名字 幫套件取小名\n",
    "help (pyip.inputStr)"
   ]
  },
  {
   "cell_type": "code",
   "execution_count": 3,
   "metadata": {},
   "outputs": [
    {
     "name": "stdout",
     "output_type": "stream",
     "text": [
      "請輸入你的姓名"
     ]
    },
    {
     "data": {
      "text/plain": [
       "'855'"
      ]
     },
     "execution_count": 3,
     "metadata": {},
     "output_type": "execute_result"
    }
   ],
   "source": [
    "pyip.inputStr(prompt='請輸入你的姓名')"
   ]
  },
  {
   "cell_type": "code",
   "execution_count": 4,
   "metadata": {},
   "outputs": [
    {
     "name": "stdout",
     "output_type": "stream",
     "text": [
      "請輸入一組數字'forty two' is not a number.\n",
      "請輸入一組數字"
     ]
    },
    {
     "data": {
      "text/plain": [
       "44"
      ]
     },
     "execution_count": 4,
     "metadata": {},
     "output_type": "execute_result"
    }
   ],
   "source": [
    "pyip.inputNum(prompt=\"請輸入一組數字\")"
   ]
  },
  {
   "cell_type": "code",
   "execution_count": 5,
   "metadata": {},
   "outputs": [],
   "source": [
    "result = pyip.inputNum(greaterThan=4, lessThan=6)\n",
    "# greaThan 大於\n",
    "# lessThan 小於"
   ]
  },
  {
   "cell_type": "code",
   "execution_count": 10,
   "metadata": {},
   "outputs": [
    {
     "name": "stdout",
     "output_type": "stream",
     "text": [
      "請輸入學生分數(最高300分):Number must be at maximum 300.\n",
      "請輸入學生分數(最高300分):';;;' is not an integer.\n",
      "請輸入學生分數(最高300分):Number must be at maximum 300.\n",
      "請輸入學生分數(最高300分):Number must be at maximum 300.\n",
      "請輸入學生分數(最高300分):是否符合加分條件(y, n)？計算後總分為2.1\n"
     ]
    }
   ],
   "source": [
    "# 學生300分題用這個套件做做看\n",
    "# shift+tab 調整縮排\n",
    "\n",
    "import pyinputplus as pyip     #定義小名\n",
    "scores=pyip.inputInt(prompt=\"請輸入學生分數(最高300分):\",min=0,max=300)\n",
    "is_add=pyip.inputStr(\"是否符合加分條件(y, n)？\")\n",
    "if is_add == \"y\":\n",
    "    scores*= 1.05\n",
    "    if scores > 300:\n",
    "        scores = 300\n",
    "print(f\"計算後總分為{scores}\")"
   ]
  },
  {
   "cell_type": "code",
   "execution_count": 15,
   "metadata": {},
   "outputs": [
    {
     "name": "stdout",
     "output_type": "stream",
     "text": [
      "請輸入x:-99\n",
      "請輸入y5\n",
      "-2.5068424421341002\n"
     ]
    }
   ],
   "source": [
    "# 如果x不是負數，則傳回值為 x ** (1 / y)。\n",
    "# 如果x是負數而且為偶數，則傳回值為\"虛數\"。\n",
    "# 如果x是負數而且為奇數，則傳回值為 -(-x) ** (1 / y)。\n",
    "\n",
    "import pyinputplus as pyip\n",
    "x=pyip.inputInt(\"請輸入x:\")\n",
    "print(x)\n",
    "y=pyip.inputInt(\"請輸入y\")\n",
    "print(y)\n",
    "\n",
    "if x >= 0:\n",
    "    root = x ** (1/y)\n",
    "else:\n",
    "    if x % 2 == 0:\n",
    "        root =\"虛數\"\n",
    "    else:\n",
    "        root = -(-x) ** (1 / y)\n",
    "print(root)\n",
    "    "
   ]
  },
  {
   "cell_type": "code",
   "execution_count": 6,
   "metadata": {},
   "outputs": [
    {
     "name": "stdout",
     "output_type": "stream",
     "text": [
      "請輸入你的成績(0~100分):Number must be at maximum 100.\n",
      "請輸入你的成績(0~100分):Number must be at maximum 100.\n",
      "請輸入你的成績(0~100分):33\n",
      "學生等級:丁\n"
     ]
    }
   ],
   "source": [
    "# 巢狀判斷-雙向選擇\n",
    "# 90(含)~100分為「優」\n",
    "# 80(含)~89分為「甲」\n",
    "# 70(含)~79分為「乙」\n",
    "# 60(含)~69分為「丙」\n",
    "# 0(含)~59分為「丁」\n",
    "\n",
    "import pyinputplus as pyip\n",
    "score=pyip.inputInt(\"請輸入你的成績(0~100分):\", min=0, max=100)\n",
    "print(score)\n",
    "if score >= 90:\n",
    "    grade=(\"優\")\n",
    "else:\n",
    "    if score >= 80:\n",
    "        grade=(\"甲\")\n",
    "    else:\n",
    "        if score >= 70:\n",
    "            grade=(\"乙\")\n",
    "        else:\n",
    "            if score >= 60:\n",
    "                grade=(\"丙\")\n",
    "            else:\n",
    "                grade=(\"丁\")\n",
    "print(f\"學生等級:{grade}\")"
   ]
  },
  {
   "cell_type": "code",
   "execution_count": 35,
   "metadata": {},
   "outputs": [
    {
     "name": "stdout",
     "output_type": "stream",
     "text": [
      "請輸入成績:55\n",
      "真爛\n"
     ]
    }
   ],
   "source": [
    "# 90(含)~100分為「優」\n",
    "# 80(含)~89分為「甲」\n",
    "# 70(含)~79分為「乙」\n",
    "# 60(含)~69分為「丙」\n",
    "# 0(含)~59分為「丁」\n",
    "\n",
    "import pyinputplus as pyip\n",
    "scores=pyip.inputInt(prompt=\"請輸入成績:\",min=0,max=100)\n",
    "print(scores)\n",
    "feedback=(\"\")\n",
    "\n",
    "if scores >= 90:\n",
    "    feedback=(\"優\")\n",
    "else:\n",
    "    if scores >= 80:\n",
    "        feedback=(\"甲\")\n",
    "    else:\n",
    "        if scores >= 70:\n",
    "            feedback=(\"乙\")\n",
    "        else:\n",
    "            if scores >= 60:\n",
    "                feedback=(\"丙\")\n",
    "            else:\n",
    "                feedback=(\"真爛\")\n",
    "print(feedback)     \n"
   ]
  },
  {
   "cell_type": "code",
   "execution_count": 37,
   "metadata": {},
   "outputs": [
    {
     "name": "stdout",
     "output_type": "stream",
     "text": [
      "請輸入成績:55\n",
      "真爛\n"
     ]
    }
   ],
   "source": [
    "# 巢狀判斷-多項選擇 elif\n",
    "# 當你在if裡面又要寫if的時候\n",
    "import pyinputplus as pyip\n",
    "scores=pyip.inputInt(prompt=\"請輸入成績:\",min=0,max=100)\n",
    "print(scores)\n",
    "feedback=(\"\")\n",
    "\n",
    "if scores >= 90:\n",
    "    feedback=(\"優\")\n",
    "elif scores >= 80:\n",
    "    feedback=(\"甲\")\n",
    "elif scores >= 70:\n",
    "    feedback=(\"乙\")\n",
    "elif scores >= 60:\n",
    "    feedback=(\"丙\")\n",
    "else:\n",
    "    feedback=(\"真爛\")\n",
    "print(feedback)     "
   ]
  },
  {
   "cell_type": "code",
   "execution_count": 1,
   "metadata": {},
   "outputs": [
    {
     "name": "stdout",
     "output_type": "stream",
     "text": [
      "好險\n"
     ]
    }
   ],
   "source": [
    "disaster = True \n",
    "disaster = False\n",
    "if disaster:\n",
    "\tprint(\"危險\")\n",
    "else:\n",
    "\tprint(\"好險\")"
   ]
  },
  {
   "cell_type": "code",
   "execution_count": 49,
   "metadata": {},
   "outputs": [
    {
     "name": "stdout",
     "output_type": "stream",
     "text": [
      "請輸入購買金額:10000\n",
      "實付金額為:9500.0元\n",
      "實付金額為: 9500.0 元\n"
     ]
    }
   ],
   "source": [
    "# 只有有if else，就一定只會執行一個\n",
    "# 執行 if 內程式區塊，會自動跳出(不會再刪選後面的)\n",
    "# 如果同時在if、elif都出現true，那只會執行第一個結果(出現第一個True就會自動結束程式區段)\n",
    "# 所以比較嚴格的篩選條件要放在上面\n",
    "'''\n",
    "輸入顧客購買金額，若金額在\n",
    "100000元打8折. \n",
    "50000打85折. \n",
    "30000打9折. \n",
    "10000打95折. \n",
    "\n",
    "請輸入購買金額:130000\n",
    "實付金額是: 104000.0 元'''\n",
    "\n",
    "import pyinputplus as pyip\n",
    "price=pyip.inputInt(prompt=\"請輸入購買金額:\")\n",
    "print(price)\n",
    "total=\"\"\n",
    "\n",
    "if price >= 100000:\n",
    "    total=price*0.8\n",
    "\n",
    "elif price >= 50000:\n",
    "    total=price*0.85\n",
    "\n",
    "elif price >= 30000:\n",
    "    total=price*0.9\n",
    "\n",
    "elif price >= 10000:\n",
    "    total=price*0.95\n",
    "\n",
    "else:\n",
    "    total=price*1\n",
    "\n",
    "print(f\"實付金額為:{total}元\")"
   ]
  },
  {
   "cell_type": "code",
   "execution_count": 56,
   "metadata": {},
   "outputs": [
    {
     "name": "stdout",
     "output_type": "stream",
     "text": [
      "請輸入購買金額:150000\n",
      "實付金額為:108000.0元\n"
     ]
    }
   ],
   "source": [
    "'''\n",
    "輸入顧客購買金額\n",
    "滿千送百再打折\n",
    "100000元打8折 \n",
    "50000打85折 \n",
    "30000打9折 \n",
    "10000打95折\n",
    "'''\n",
    "import pyinputplus as pyip\n",
    "money=pyip.inputInt(\"請輸入購買金額:\")\n",
    "print(money)\n",
    "price=\"\"\n",
    "\n",
    "#滿千送百\n",
    "discount=money-(money//1000*100)\n",
    "\n",
    "if discount >=100000:\n",
    "    price=discount*0.8\n",
    "elif discount >= 50000:\n",
    "    price=discount*0.85\n",
    "elif discount >= 30000:\n",
    "    price=discount*0.9\n",
    "elif discount >= 10000:\n",
    "    price=discount*0.95\n",
    "else:price=discount*1\n",
    "\n",
    "print(f\"實付金額為:{price}元\")\n"
   ]
  },
  {
   "cell_type": "code",
   "execution_count": 61,
   "metadata": {},
   "outputs": [
    {
     "name": "stdout",
     "output_type": "stream",
     "text": [
      "請輸入國文成績：30\n",
      "請輸入數學成績:30\n",
      "你可以獲得的獎金是(0, '考那麼爛還想領錢啊？')\n"
     ]
    }
   ],
   "source": [
    "# 邏輯運算子(邏輯運算符號)\n",
    "# and (同時) 左右兩個條件若都為真則為真，否則為假\n",
    "# or (或者) 左右兩個條件只要一個為真就是真，否則為假\n",
    "# not\n",
    "# 甚麼情況可以得到booleans？\n",
    "    # 關係運算子(大於小於等等)\n",
    "    # 比較運算子(是否等於、是否不等於)\n",
    "    # 邏輯運算子\n",
    "'''\n",
    "chinese = int(input(\"請輸入國文分數\"))\n",
    "math = int(input(\"請輸入數學分數\"))\n",
    "#使用邏輯運算子\n",
    "bonus = 0\n",
    "'''\n",
    "import pyinputplus as pyip\n",
    "chinese=pyip.inputInt(\"請輸入國文成績：\", min=0,max=100)\n",
    "print(chinese)\n",
    "math=pyip.inputInt(\"請輸入數學成績:\",min=0,max=100)\n",
    "print(math)\n",
    "\n",
    "if chinese == 100 and math == 100:\n",
    "    bonus=1000\n",
    "elif chinese == 100 or math == 100:\n",
    "    bonus=500\n",
    "else:\n",
    "    bonus=0,\"考那麼爛還想領錢啊？\"\n",
    "\n",
    "print(f\"你可以獲得的獎金是{bonus}\")\n"
   ]
  }
 ],
 "metadata": {
  "kernelspec": {
   "display_name": ".venv",
   "language": "python",
   "name": "python3"
  },
  "language_info": {
   "codemirror_mode": {
    "name": "ipython",
    "version": 3
   },
   "file_extension": ".py",
   "mimetype": "text/x-python",
   "name": "python",
   "nbconvert_exporter": "python",
   "pygments_lexer": "ipython3",
   "version": "3.10.8"
  },
  "orig_nbformat": 4
 },
 "nbformat": 4,
 "nbformat_minor": 2
}
