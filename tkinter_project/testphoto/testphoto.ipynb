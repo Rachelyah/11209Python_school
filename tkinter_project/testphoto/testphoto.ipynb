{
 "cells": [
  {
   "cell_type": "code",
   "execution_count": 4,
   "metadata": {},
   "outputs": [
    {
     "ename": "TypeError",
     "evalue": "'DictReader' object is not subscriptable",
     "output_type": "error",
     "traceback": [
      "\u001b[1;31m---------------------------------------------------------------------------\u001b[0m",
      "\u001b[1;31mTypeError\u001b[0m                                 Traceback (most recent call last)",
      "\u001b[1;32mc:\\Rachel\\GitHub\\11209Python_school-1\\tkinter_project\\testphoto\\testphoto.ipynb 儲存格 1\u001b[0m line \u001b[0;36m2\n\u001b[0;32m     <a href='vscode-notebook-cell:/c%3A/Rachel/GitHub/11209Python_school-1/tkinter_project/testphoto/testphoto.ipynb#W0sZmlsZQ%3D%3D?line=20'>21</a>\u001b[0m \u001b[39m# 將原本的資料寫入新的csv，同時在每一筆資料的最後面加上 'Year': '2022'\u001b[39;00m\n\u001b[0;32m     <a href='vscode-notebook-cell:/c%3A/Rachel/GitHub/11209Python_school-1/tkinter_project/testphoto/testphoto.ipynb#W0sZmlsZQ%3D%3D?line=21'>22</a>\u001b[0m     \u001b[39mfor\u001b[39;00m row \u001b[39min\u001b[39;00m csv_reader:\n\u001b[1;32m---> <a href='vscode-notebook-cell:/c%3A/Rachel/GitHub/11209Python_school-1/tkinter_project/testphoto/testphoto.ipynb#W0sZmlsZQ%3D%3D?line=22'>23</a>\u001b[0m         test \u001b[39m=\u001b[39m \u001b[39msum\u001b[39m(csv_reader[\u001b[39m'\u001b[39;49m\u001b[39mER\u001b[39;49m\u001b[39m'\u001b[39;49m])\n\u001b[0;32m     <a href='vscode-notebook-cell:/c%3A/Rachel/GitHub/11209Python_school-1/tkinter_project/testphoto/testphoto.ipynb#W0sZmlsZQ%3D%3D?line=23'>24</a>\u001b[0m         \u001b[39mprint\u001b[39m(test)\n\u001b[0;32m     <a href='vscode-notebook-cell:/c%3A/Rachel/GitHub/11209Python_school-1/tkinter_project/testphoto/testphoto.ipynb#W0sZmlsZQ%3D%3D?line=24'>25</a>\u001b[0m         \u001b[39m#csv_writer.writerow(row)\u001b[39;00m\n",
      "\u001b[1;31mTypeError\u001b[0m: 'DictReader' object is not subscriptable"
     ]
    }
   ],
   "source": [
    "import csv\n",
    "#在csv檔案裡面寫入資料並儲存的方法\n",
    "\n",
    "# 原有的csv檔案\n",
    "cpbl_pitchings_csv = 'pitchings_2022.csv'\n",
    "\n",
    "# 建立一個新的csv文件，加入紀錄年份2022後儲存\n",
    "new_csv = 'pitchings_2022_PR.csv'\n",
    "\n",
    "with open(cpbl_pitchings_csv, 'r', encoding='utf-8') as csvfile:\n",
    "    csv_reader = csv.DictReader(csvfile)\n",
    "        \n",
    "    # 取得欄位名稱，並加上Year欄位\n",
    "    fieldnames= csv_reader.fieldnames + ['ER_PR']\n",
    "        \n",
    "    # 開啟新的csv文件，寫入欄位名稱\n",
    "    with open(new_csv, 'w', encoding='utf-8', newline='') as output_file:\n",
    "        csv_writer = csv.DictWriter(output_file, fieldnames=fieldnames)\n",
    "        csv_writer.writeheader()\n",
    "            \n",
    "    # 將原本的資料寫入新的csv，同時在每一筆資料的最後面加上 'Year': '2022'\n",
    "        for row in csv_reader:\n",
    "            test = sum(csv_reader['ER'])\n",
    "            print(test)\n",
    "            #csv_writer.writerow(row)\n",
    "\n",
    "print(f'修改後的資料已寫入 {new_csv}')"
   ]
  },
  {
   "cell_type": "code",
   "execution_count": 2,
   "metadata": {},
   "outputs": [
    {
     "name": "stdout",
     "output_type": "stream",
     "text": [
      "<csv.DictReader object at 0x00000205DE71D9C0>\n"
     ]
    }
   ],
   "source": [
    "import csv\n",
    "#在csv檔案裡面寫入資料並儲存的方法\n",
    "\n",
    "# 原有的csv檔案\n",
    "cpbl_pitchings_csv = 'pitchings_2022.csv'\n",
    "\n",
    "# 建立一個新的csv文件，加入紀錄年份2022後儲存\n",
    "new_csv = 'pitchings_2022_PR.csv'\n",
    "\n",
    "with open(cpbl_pitchings_csv, 'r', encoding='utf-8') as csvfile:\n",
    "    csv_reader = csv.DictReader(csvfile)\n",
    "    print(csv_reader)\n",
    "        \n",
    "    # 取得欄位名稱，並加上Year欄位\n",
    "    #fieldnames= csv_reader.fieldnames + ['ER_PR']"
   ]
  },
  {
   "cell_type": "code",
   "execution_count": 5,
   "metadata": {},
   "outputs": [
    {
     "name": "stdout",
     "output_type": "stream",
     "text": [
      "修改後的資料已寫入 pitchings_2022_PR.csv\n"
     ]
    }
   ],
   "source": [
    "import csv\n",
    "\n",
    "# 原有的 csv 檔案\n",
    "cpbl_pitchings_csv = 'pitchings_2022.csv'\n",
    "\n",
    "# 建立一個新的 csv 文件，加入紀錄年份 2022 後儲存\n",
    "new_csv = 'pitchings_2022_PR.csv'\n",
    "\n",
    "# 讀取原始 csv 檔案\n",
    "with open(cpbl_pitchings_csv, 'r', encoding='utf-8') as csvfile:\n",
    "    csv_reader = csv.DictReader(csvfile)\n",
    "\n",
    "    # 取得欄位名稱，並加上 'ER_PR' 欄位\n",
    "    fieldnames = csv_reader.fieldnames + ['ER_PR']\n",
    "\n",
    "    # 計算所有球員 ER 的平均值\n",
    "    total_er = sum(float(row['ER']) for row in csv_reader)\n",
    "    num_players = csv_reader.line_num - 1  # 減去標題行\n",
    "\n",
    "    # 設定迭代器回到檔案的開頭\n",
    "    csvfile.seek(0)\n",
    "    next(csv_reader)  # 跳過標題行\n",
    "\n",
    "    # 開啟新的 csv 文件，寫入欄位名稱\n",
    "    with open(new_csv, 'w', encoding='utf-8', newline='') as output_file:\n",
    "        csv_writer = csv.DictWriter(output_file, fieldnames=fieldnames)\n",
    "        csv_writer.writeheader()\n",
    "\n",
    "        # 將原本的資料寫入新的 csv，同時在每一筆資料的最後面加上 'Year': '2022' 和 'ER_PR' 資料\n",
    "        for row in csv_reader:\n",
    "            er_pr = float(row['ER']) / (total_er / num_players) if total_er != 0 else 0\n",
    "            row['ER_PR'] = er_pr\n",
    "            csv_writer.writerow(row)\n",
    "\n",
    "print(f'修改後的資料已寫入 {new_csv}')\n"
   ]
  },
  {
   "cell_type": "code",
   "execution_count": 7,
   "metadata": {},
   "outputs": [
    {
     "name": "stdout",
     "output_type": "stream",
     "text": [
      "修改後的資料已寫入 pitchings_2022_PR.csv\n"
     ]
    }
   ],
   "source": [
    "import csv\n",
    "\n",
    "# 原有的 csv 檔案\n",
    "cpbl_pitchings_csv = 'pitchings_2022.csv'\n",
    "\n",
    "# 建立一個新的 csv 文件，加入紀錄年份 2022 後儲存\n",
    "new_csv = 'pitchings_2022_PR.csv'\n",
    "\n",
    "# 讀取原始 csv 檔案\n",
    "with open(cpbl_pitchings_csv, 'r', encoding='utf-8') as csvfile:\n",
    "    csv_reader = csv.DictReader(csvfile)\n",
    "\n",
    "    # 取得欄位名稱，並加上 'ER_PR' 欄位\n",
    "    fieldnames = csv_reader.fieldnames + ['ER_PR']\n",
    "\n",
    "    # 計算所有球員 ER 的總和\n",
    "    total_er = sum(float(row['ER']) for row in csv_reader)\n",
    "\n",
    "    # 設定迭代器回到檔案的開頭\n",
    "    csvfile.seek(0)\n",
    "    next(csv_reader)  # 跳過標題行\n",
    "\n",
    "    # 開啟新的 csv 文件，寫入欄位名稱\n",
    "    with open(new_csv, 'w', encoding='utf-8', newline='') as output_file:\n",
    "        csv_writer = csv.DictWriter(output_file, fieldnames=fieldnames)\n",
    "        csv_writer.writeheader()\n",
    "\n",
    "        # 將原本的資料寫入新的 csv，同時在每一筆資料的最後面加上 'Year': '2022' 和 'ER_PR' 資料\n",
    "        for row in csv_reader:\n",
    "            er_pr = round((total_er - float(row['ER'])) / total_er * 100, 2) if total_er != 0 else 0\n",
    "            row['ER_PR'] = er_pr\n",
    "            csv_writer.writerow(row)\n",
    "\n",
    "print(f'修改後的資料已寫入 {new_csv}')\n",
    "\n"
   ]
  },
  {
   "cell_type": "code",
   "execution_count": 4,
   "metadata": {},
   "outputs": [
    {
     "name": "stdout",
     "output_type": "stream",
     "text": [
      "修改後的資料已寫入 pitchings_2022_updated.csv\n"
     ]
    }
   ],
   "source": [
    "import csv\n",
    "\n",
    "# 原有的csv檔案\n",
    "cpbl_pitchings_csv = 'pitchings_2022.csv'\n",
    "\n",
    "# 建立一個新的csv文件，加入新的欄位\n",
    "new_csv = 'pitchings_2022_updated.csv'\n",
    "\n",
    "# 計算三振率 (K9) 與防禦率 (ERA) 並加入新的欄位\n",
    "with open(cpbl_pitchings_csv, 'r', encoding='utf-8') as csvfile:\n",
    "    csv_reader = csv.DictReader(csvfile)\n",
    "\n",
    "    # 取得欄位名稱，並加上新的欄位名稱\n",
    "    fieldnames = csv_reader.fieldnames + ['K9', 'ERA', 'K9_PR', 'ERA_PR']\n",
    "\n",
    "    # 開啟新的csv文件，寫入欄位名稱\n",
    "    with open(new_csv, 'w', encoding='utf-8', newline='') as output_file:\n",
    "        csv_writer = csv.DictWriter(output_file, fieldnames=fieldnames)\n",
    "        csv_writer.writeheader()\n",
    "\n",
    "        # 計算三振率、防禦率，並加入新的欄位\n",
    "        for row in csv_reader:\n",
    "            so = float(row['SO'])\n",
    "            er = float(row['ER'])\n",
    "            ip = float(row['IP'])\n",
    "\n",
    "            # 檢查 ip 是否為零，避免除以零的錯誤\n",
    "            if ip != 0:\n",
    "                k9 = (so / ip) * 9\n",
    "                era = (er * 9) / ip\n",
    "            else:\n",
    "                k9 = 0\n",
    "                era = 0\n",
    "\n",
    "            # 新增三振率 (K9) 與防禦率 (ERA) 欄位\n",
    "            row['K9'] = round(k9, 2)\n",
    "            row['ERA'] = round(era, 2)\n",
    "\n",
    "            # 計算三振率、防禦率的PR值\n",
    "            k9_pr = round((k9 - float(row['K9'])) / k9 * 100, 2) if k9 != 0 else 0\n",
    "            era_pr = round((era - float(row['ERA'])) / era * 100, 2) if era != 0 else 0\n",
    "\n",
    "            # 新增三振率 (K9) 與防禦率 (ERA) 的PR值欄位\n",
    "            row['K9_PR'] = k9_pr\n",
    "            row['ERA_PR'] = era_pr\n",
    "\n",
    "            # 寫入新的資料列\n",
    "            csv_writer.writerow(row)\n",
    "\n",
    "print(f'修改後的資料已寫入 {new_csv}')\n",
    "\n"
   ]
  },
  {
   "cell_type": "code",
   "execution_count": 5,
   "metadata": {},
   "outputs": [
    {
     "name": "stdout",
     "output_type": "stream",
     "text": [
      "修改後的資料已寫入 pitchings_2022_updated.csv\n"
     ]
    }
   ],
   "source": [
    "#新增三振率跟ERA到csv\n",
    "\n",
    "import csv\n",
    "\n",
    "def calculate_k9(so, ip):\n",
    "    try:\n",
    "        k9 = (so / ip) * 9\n",
    "        return round(k9, 2)\n",
    "    except ZeroDivisionError:\n",
    "        return 0.0\n",
    "\n",
    "def calculate_era(er, ip):\n",
    "    try:\n",
    "        era = (er * 9) / ip\n",
    "        return round(era, 2)\n",
    "    except ZeroDivisionError:\n",
    "        return 0.0\n",
    "\n",
    "# 原有的csv檔案\n",
    "cpbl_pitchings_csv = 'pitchings_2022.csv'\n",
    "\n",
    "# 建立一個新的csv文件，加入紀錄年份2022後儲存\n",
    "new_csv = 'pitchings_2022_updated.csv'\n",
    "\n",
    "with open(cpbl_pitchings_csv, 'r', encoding='utf-8') as csvfile:\n",
    "    csv_reader = csv.DictReader(csvfile)\n",
    "\n",
    "    # 取得欄位名稱，並加上新的欄位名稱\n",
    "    fieldnames = csv_reader.fieldnames + ['K9', 'ERA']\n",
    "\n",
    "    # 開啟新的csv文件，寫入欄位名稱\n",
    "    with open(new_csv, 'w', encoding='utf-8', newline='') as output_file:\n",
    "        csv_writer = csv.DictWriter(output_file, fieldnames=fieldnames)\n",
    "        csv_writer.writeheader()\n",
    "\n",
    "        # 將原本的資料寫入新的csv，同時計算新的數值，並寫入新的欄位\n",
    "        for row in csv_reader:\n",
    "            so = float(row['SO'])\n",
    "            ip = float(row['IP'])\n",
    "            er = float(row['ER'])\n",
    "\n",
    "            k9 = calculate_k9(so, ip)\n",
    "            era = calculate_era(er, ip)\n",
    "\n",
    "            row['K9'] = k9\n",
    "            row['ERA'] = era\n",
    "\n",
    "            csv_writer.writerow(row)\n",
    "\n",
    "print(f'修改後的資料已寫入 {new_csv}')\n"
   ]
  },
  {
   "cell_type": "code",
   "execution_count": 8,
   "metadata": {},
   "outputs": [
    {
     "name": "stdout",
     "output_type": "stream",
     "text": [
      "平均 K9: 6.03\n",
      "平均 ERA: 6.93\n"
     ]
    }
   ],
   "source": [
    "import csv\n",
    "\n",
    "def calculate_k9(so, ip):\n",
    "    try:\n",
    "        k9 = (so / ip) * 9\n",
    "        return round(k9, 2)\n",
    "    except ZeroDivisionError:\n",
    "        return 0.0\n",
    "\n",
    "def calculate_era(er, ip):\n",
    "    try:\n",
    "        era = (er * 9) / ip\n",
    "        return round(era, 2)\n",
    "    except ZeroDivisionError:\n",
    "        return 0.0\n",
    "\n",
    "# 原有的csv檔案\n",
    "cpbl_pitchings_csv = 'pitchings_2022.csv'\n",
    "\n",
    "# 初始化變數以保存平均值\n",
    "total_k9 = 0.0\n",
    "total_era = 0.0\n",
    "count = 0\n",
    "\n",
    "with open(cpbl_pitchings_csv, 'r', encoding='utf-8') as csvfile:\n",
    "    csv_reader = csv.DictReader(csvfile)\n",
    "\n",
    "    for row in csv_reader:\n",
    "        so = float(row['SO'])\n",
    "        ip = float(row['IP'])\n",
    "        er = float(row['ER'])\n",
    "\n",
    "        k9 = calculate_k9(so, ip)\n",
    "        era = calculate_era(er, ip)\n",
    "\n",
    "        total_k9 += k9\n",
    "        total_era += era\n",
    "        count += 1\n",
    "\n",
    "# 計算平均值\n",
    "average_k9 =round((total_k9 / count if count > 0 else 0.0),2)\n",
    "average_era =round((total_era / count if count > 0 else 0.0),2)\n",
    "\n",
    "print(f'平均 K9: {average_k9}')\n",
    "print(f'平均 ERA: {average_era}')\n"
   ]
  },
  {
   "cell_type": "code",
   "execution_count": 1,
   "metadata": {},
   "outputs": [
    {
     "name": "stderr",
     "output_type": "stream",
     "text": [
      "C:\\Users\\User\\AppData\\Local\\Temp\\ipykernel_10796\\4018456807.py:61: FutureWarning: \n",
      "\n",
      "The `ci` parameter is deprecated. Use `errorbar=None` for the same effect.\n",
      "\n",
      "  sns.barplot(data=data, ci=None)\n",
      "C:\\Users\\User\\AppData\\Roaming\\Python\\Python310\\site-packages\\IPython\\core\\pylabtools.py:152: UserWarning: Glyph 29699 (\\N{CJK UNIFIED IDEOGRAPH-7403}) missing from current font.\n",
      "  fig.canvas.print_figure(bytes_io, **kw)\n",
      "C:\\Users\\User\\AppData\\Roaming\\Python\\Python310\\site-packages\\IPython\\core\\pylabtools.py:152: UserWarning: Glyph 21729 (\\N{CJK UNIFIED IDEOGRAPH-54E1}) missing from current font.\n",
      "  fig.canvas.print_figure(bytes_io, **kw)\n",
      "C:\\Users\\User\\AppData\\Roaming\\Python\\Python310\\site-packages\\IPython\\core\\pylabtools.py:152: UserWarning: Glyph 25976 (\\N{CJK UNIFIED IDEOGRAPH-6578}) missing from current font.\n",
      "  fig.canvas.print_figure(bytes_io, **kw)\n",
      "C:\\Users\\User\\AppData\\Roaming\\Python\\Python310\\site-packages\\IPython\\core\\pylabtools.py:152: UserWarning: Glyph 20540 (\\N{CJK UNIFIED IDEOGRAPH-503C}) missing from current font.\n",
      "  fig.canvas.print_figure(bytes_io, **kw)\n",
      "C:\\Users\\User\\AppData\\Roaming\\Python\\Python310\\site-packages\\IPython\\core\\pylabtools.py:152: UserWarning: Glyph 33287 (\\N{CJK UNIFIED IDEOGRAPH-8207}) missing from current font.\n",
      "  fig.canvas.print_figure(bytes_io, **kw)\n"
     ]
    },
    {
     "data": {
      "image/png": "[encoded data removed]",
      "text/plain": [
       "<Figure size 1000x600 with 1 Axes>"
      ]
     },
     "metadata": {},
     "output_type": "display_data"
    }
   ],
   "source": [
    "import csv\n",
    "import seaborn as sns\n",
    "import matplotlib.pyplot as plt\n",
    "\n",
    "def calculate_k9(so, ip):\n",
    "    try:\n",
    "        k9 = (so / ip) * 9\n",
    "        return round(k9, 2)\n",
    "    except ZeroDivisionError:\n",
    "        return 0.0\n",
    "\n",
    "def calculate_era(er, ip):\n",
    "    try:\n",
    "        era = (er * 9) / ip\n",
    "        return round(era, 2)\n",
    "    except ZeroDivisionError:\n",
    "        return 0.0\n",
    "\n",
    "# 原有的csv檔案\n",
    "cpbl_pitchings_csv = 'pitchings_2022.csv'\n",
    "\n",
    "# 初始化變數以保存平均值\n",
    "total_k9 = 0.0\n",
    "total_era = 0.0\n",
    "count = 0\n",
    "\n",
    "k9_values = []\n",
    "era_values = []\n",
    "\n",
    "with open(cpbl_pitchings_csv, 'r', encoding='utf-8') as csvfile:\n",
    "    csv_reader = csv.DictReader(csvfile)\n",
    "\n",
    "    for row in csv_reader:\n",
    "        so = float(row['SO'])\n",
    "        ip = float(row['IP'])\n",
    "        er = float(row['ER'])\n",
    "\n",
    "        k9 = calculate_k9(so, ip)\n",
    "        era = calculate_era(er, ip)\n",
    "\n",
    "        total_k9 += k9\n",
    "        total_era += era\n",
    "        count += 1\n",
    "\n",
    "        k9_values.append(k9)\n",
    "        era_values.append(era)\n",
    "\n",
    "# 計算平均值\n",
    "average_k9 = total_k9 / count if count > 0 else 0.0\n",
    "average_era = total_era / count if count > 0 else 0.0\n",
    "\n",
    "# 創建一個 DataFrame\n",
    "import pandas as pd\n",
    "data = pd.DataFrame({'K9': k9_values, 'ERA': era_values})\n",
    "\n",
    "# 設定 Seaborn 样式\n",
    "sns.set(style=\"whitegrid\")\n",
    "\n",
    "# 繪製長條圖\n",
    "plt.figure(figsize=(10, 6))\n",
    "sns.barplot(data=data, ci=None)\n",
    "\n",
    "# 加入平均線\n",
    "plt.axhline(average_k9, color='blue', linestyle='dashed', linewidth=2, label='Average K9')\n",
    "plt.axhline(average_era, color='orange', linestyle='dashed', linewidth=2, label='Average ERA')\n",
    "\n",
    "plt.xlabel('球員')\n",
    "plt.ylabel('數值')\n",
    "plt.title('球員 K9 與 ERA')\n",
    "plt.legend()\n",
    "\n",
    "plt.show()\n"
   ]
  },
  {
   "cell_type": "code",
   "execution_count": 1,
   "metadata": {},
   "outputs": [
    {
     "name": "stderr",
     "output_type": "stream",
     "text": [
      "C:\\Users\\User\\AppData\\Local\\Temp\\ipykernel_8036\\4018456807.py:61: FutureWarning: \n",
      "\n",
      "The `ci` parameter is deprecated. Use `errorbar=None` for the same effect.\n",
      "\n",
      "  sns.barplot(data=data, ci=None)\n",
      "c:\\Rachel\\GitHub\\11209Python_school\\.venv\\lib\\site-packages\\IPython\\core\\pylabtools.py:152: UserWarning: Glyph 29699 (\\N{CJK UNIFIED IDEOGRAPH-7403}) missing from current font.\n",
      "  fig.canvas.print_figure(bytes_io, **kw)\n",
      "c:\\Rachel\\GitHub\\11209Python_school\\.venv\\lib\\site-packages\\IPython\\core\\pylabtools.py:152: UserWarning: Glyph 21729 (\\N{CJK UNIFIED IDEOGRAPH-54E1}) missing from current font.\n",
      "  fig.canvas.print_figure(bytes_io, **kw)\n",
      "c:\\Rachel\\GitHub\\11209Python_school\\.venv\\lib\\site-packages\\IPython\\core\\pylabtools.py:152: UserWarning: Glyph 25976 (\\N{CJK UNIFIED IDEOGRAPH-6578}) missing from current font.\n",
      "  fig.canvas.print_figure(bytes_io, **kw)\n",
      "c:\\Rachel\\GitHub\\11209Python_school\\.venv\\lib\\site-packages\\IPython\\core\\pylabtools.py:152: UserWarning: Glyph 20540 (\\N{CJK UNIFIED IDEOGRAPH-503C}) missing from current font.\n",
      "  fig.canvas.print_figure(bytes_io, **kw)\n",
      "c:\\Rachel\\GitHub\\11209Python_school\\.venv\\lib\\site-packages\\IPython\\core\\pylabtools.py:152: UserWarning: Glyph 33287 (\\N{CJK UNIFIED IDEOGRAPH-8207}) missing from current font.\n",
      "  fig.canvas.print_figure(bytes_io, **kw)\n"
     ]
    },
    {
     "data": {
      "image/png": "[encoded data removed]",
      "text/plain": [
       "<Figure size 1000x600 with 1 Axes>"
      ]
     },
     "metadata": {},
     "output_type": "display_data"
    }
   ],
   "source": [
    "import csv\n",
    "import seaborn as sns\n",
    "import matplotlib.pyplot as plt\n",
    "\n",
    "def calculate_k9(so, ip):\n",
    "    try:\n",
    "        k9 = (so / ip) * 9\n",
    "        return round(k9, 2)\n",
    "    except ZeroDivisionError:\n",
    "        return 0.0\n",
    "\n",
    "def calculate_era(er, ip):\n",
    "    try:\n",
    "        era = (er * 9) / ip\n",
    "        return round(era, 2)\n",
    "    except ZeroDivisionError:\n",
    "        return 0.0\n",
    "\n",
    "# 原有的csv檔案\n",
    "cpbl_pitchings_csv = 'pitchings_2022.csv'\n",
    "\n",
    "# 初始化變數以保存平均值\n",
    "total_k9 = 0.0\n",
    "total_era = 0.0\n",
    "count = 0\n",
    "\n",
    "k9_values = []\n",
    "era_values = []\n",
    "\n",
    "with open(cpbl_pitchings_csv, 'r', encoding='utf-8') as csvfile:\n",
    "    csv_reader = csv.DictReader(csvfile)\n",
    "\n",
    "    for row in csv_reader:\n",
    "        so = float(row['SO'])\n",
    "        ip = float(row['IP'])\n",
    "        er = float(row['ER'])\n",
    "\n",
    "        k9 = calculate_k9(so, ip)\n",
    "        era = calculate_era(er, ip)\n",
    "\n",
    "        total_k9 += k9\n",
    "        total_era += era\n",
    "        count += 1\n",
    "\n",
    "        k9_values.append(k9)\n",
    "        era_values.append(era)\n",
    "\n",
    "# 計算平均值\n",
    "average_k9 = total_k9 / count if count > 0 else 0.0\n",
    "average_era = total_era / count if count > 0 else 0.0\n",
    "\n",
    "# 創建一個 DataFrame\n",
    "import pandas as pd\n",
    "data = pd.DataFrame({'K9': k9_values, 'ERA': era_values})\n",
    "\n",
    "# 設定 Seaborn 样式\n",
    "sns.set(style=\"whitegrid\")\n",
    "\n",
    "# 繪製長條圖\n",
    "plt.figure(figsize=(10, 6))\n",
    "sns.barplot(data=data, ci=None)\n",
    "\n",
    "# 加入平均線\n",
    "plt.axhline(average_k9, color='blue', linestyle='dashed', linewidth=2, label='Average K9')\n",
    "plt.axhline(average_era, color='orange', linestyle='dashed', linewidth=2, label='Average ERA')\n",
    "\n",
    "plt.xlabel('球員')\n",
    "plt.ylabel('數值')\n",
    "plt.title('球員 K9 與 ERA')\n",
    "plt.legend()\n",
    "\n",
    "plt.show()\n"
   ]
  },
  {
   "cell_type": "code",
   "execution_count": 1,
   "metadata": {},
   "outputs": [
    {
     "data": {
      "image/png": "[encoded data removed]",
      "text/plain": [
       "<Figure size 640x480 with 1 Axes>"
      ]
     },
     "metadata": {},
     "output_type": "display_data"
    }
   ],
   "source": [
    "import matplotlib.pyplot as plt\n",
    "\n",
    "listx = [1,5,7,9,13,16]\n",
    "listy = [15,50,80,40,70,50]\n",
    "plt.plot(listx, listy)\n",
    "plt.show()"
   ]
  },
  {
   "cell_type": "code",
   "execution_count": 3,
   "metadata": {},
   "outputs": [
    {
     "ename": "FileNotFoundError",
     "evalue": "[Errno 2] No such file or directory: 'TaipeiSansTCBeta-Regular.ttf'",
     "output_type": "error",
     "traceback": [
      "\u001b[0;31m---------------------------------------------------------------------------\u001b[0m",
      "\u001b[0;31mFileNotFoundError\u001b[0m                         Traceback (most recent call last)",
      "Cell \u001b[0;32mIn[3], line 5\u001b[0m\n\u001b[1;32m      3\u001b[0m \u001b[39mfrom\u001b[39;00m \u001b[39mmatplotlib\u001b[39;00m\u001b[39m.\u001b[39;00m\u001b[39mfont_manager\u001b[39;00m \u001b[39mimport\u001b[39;00m fontManager\n\u001b[1;32m      4\u001b[0m \u001b[39m# 加入中文字型設定：翰字鑄造-台北黑體\u001b[39;00m\n\u001b[0;32m----> 5\u001b[0m fontManager\u001b[39m.\u001b[39;49maddfont(\u001b[39m'\u001b[39;49m\u001b[39mTaipeiSansTCBeta-Regular.ttf\u001b[39;49m\u001b[39m'\u001b[39;49m)\n\u001b[1;32m      6\u001b[0m matplotlib\u001b[39m.\u001b[39mrc(\u001b[39m'\u001b[39m\u001b[39mfont\u001b[39m\u001b[39m'\u001b[39m, family\u001b[39m=\u001b[39m\u001b[39m'\u001b[39m\u001b[39mTaipei Sans TC Beta\u001b[39m\u001b[39m'\u001b[39m)\n\u001b[1;32m      8\u001b[0m df \u001b[39m=\u001b[39m pd\u001b[39m.\u001b[39mDataFrame([[\u001b[39m250\u001b[39m,\u001b[39m320\u001b[39m,\u001b[39m300\u001b[39m,\u001b[39m312\u001b[39m,\u001b[39m280\u001b[39m],\n\u001b[1;32m      9\u001b[0m \t\t\t\t\t\t\t[\u001b[39m280\u001b[39m,\u001b[39m300\u001b[39m,\u001b[39m280\u001b[39m,\u001b[39m290\u001b[39m,\u001b[39m310\u001b[39m],\n\u001b[1;32m     10\u001b[0m \t\t\t\t\t\t\t[\u001b[39m220\u001b[39m,\u001b[39m280\u001b[39m,\u001b[39m250\u001b[39m,\u001b[39m305\u001b[39m,\u001b[39m250\u001b[39m]],\n\u001b[1;32m     11\u001b[0m \t\t\t\t\t\t\tindex\u001b[39m=\u001b[39m[\u001b[39m'\u001b[39m\u001b[39m北部\u001b[39m\u001b[39m'\u001b[39m,\u001b[39m'\u001b[39m\u001b[39m中部\u001b[39m\u001b[39m'\u001b[39m,\u001b[39m'\u001b[39m\u001b[39m南部\u001b[39m\u001b[39m'\u001b[39m],\n\u001b[1;32m     12\u001b[0m \t\t\t\t\t\t\tcolumns\u001b[39m=\u001b[39m[\u001b[39m2015\u001b[39m,\u001b[39m2016\u001b[39m,\u001b[39m2017\u001b[39m,\u001b[39m2018\u001b[39m,\u001b[39m2019\u001b[39m])\n",
      "File \u001b[0;32m~/Documents/Python應用實戰/課程資料/徐國堂/GitHub/11209Python_school/.venv/lib/python3.10/site-packages/matplotlib/font_manager.py:1076\u001b[0m, in \u001b[0;36mFontManager.addfont\u001b[0;34m(self, path)\u001b[0m\n\u001b[1;32m   1074\u001b[0m     \u001b[39mself\u001b[39m\u001b[39m.\u001b[39mafmlist\u001b[39m.\u001b[39mappend(prop)\n\u001b[1;32m   1075\u001b[0m \u001b[39melse\u001b[39;00m:\n\u001b[0;32m-> 1076\u001b[0m     font \u001b[39m=\u001b[39m ft2font\u001b[39m.\u001b[39;49mFT2Font(path)\n\u001b[1;32m   1077\u001b[0m     prop \u001b[39m=\u001b[39m ttfFontProperty(font)\n\u001b[1;32m   1078\u001b[0m     \u001b[39mself\u001b[39m\u001b[39m.\u001b[39mttflist\u001b[39m.\u001b[39mappend(prop)\n",
      "\u001b[0;31mFileNotFoundError\u001b[0m: [Errno 2] No such file or directory: 'TaipeiSansTCBeta-Regular.ttf'"
     ]
    }
   ],
   "source": [
    "import pandas as pd\n",
    "import matplotlib\n",
    "from matplotlib.font_manager import fontManager\n",
    "# 加入中文字型設定：翰字鑄造-台北黑體\n",
    "fontManager.addfont('TaipeiSansTCBeta-Regular.ttf')\n",
    "matplotlib.rc('font', family='Taipei Sans TC Beta')\n",
    "\n",
    "df = pd.DataFrame([[250,320,300,312,280],\n",
    "\t\t\t\t\t\t\t[280,300,280,290,310],\n",
    "\t\t\t\t\t\t\t[220,280,250,305,250]],\n",
    "\t\t\t\t\t\t\tindex=['北部','中部','南部'],\n",
    "\t\t\t\t\t\t\tcolumns=[2015,2016,2017,2018,2019])\n",
    "\n",
    "g1 = df.plot(kind='bar', title='長條圖', figsize=[10,5])\n",
    "g2 = df.plot(kind='barh', title='橫條圖', figsize=[10,5])\n",
    "g3 = df.plot(kind='bar', stacked=True, title='堆疊圖', figsize=[10,5])"
   ]
  },
  {
   "cell_type": "code",
   "execution_count": 2,
   "metadata": {},
   "outputs": [
    {
     "name": "stderr",
     "output_type": "stream",
     "text": [
      "2023-11-27 21:23:40.743 Python[1881:38337] TSM AdjustCapsLockLEDForKeyTransitionHandling - _ISSetPhysicalKeyboardCapsLockLED Inhibit\n"
     ]
    },
    {
     "ename": "",
     "evalue": "",
     "output_type": "error",
     "traceback": [
      "\u001b[1;31m在目前儲存格或上一個儲存格中執行程式碼時，Kernel 已損毀。請檢閱儲存格中的程式碼，找出失敗的可能原因。如需詳細資訊，請按一下<a href='https://aka.ms/vscodeJupyterKernelCrash'>這裡</a>。檢視 Jupyter <a href='command:jupyter.viewOutput'>記錄</a>，以取得進一步的詳細資料。"
     ]
    }
   ],
   "source": [
    "import tkinter as tk\n",
    "\n",
    "class SearchApp:\n",
    "    def __init__(self, master):\n",
    "        self.master = master\n",
    "        master.title(\"搜尋欄位示範\")\n",
    "\n",
    "        # 創建搜尋欄位\n",
    "        self.search_entry = tk.Entry(master, width=30)\n",
    "        self.search_entry.pack(pady=10)\n",
    "\n",
    "        # 創建搜尋按鈕\n",
    "        self.search_button = tk.Button(master, text=\"搜尋\", command=self.perform_search)\n",
    "        self.search_button.pack()\n",
    "\n",
    "        # 創建顯示搜尋結果的標籤\n",
    "        self.result_label = tk.Label(master, text=\"\")\n",
    "        self.result_label.pack(pady=10)\n",
    "\n",
    "    def perform_search(self):\n",
    "        # 獲取搜尋欄位的內容\n",
    "        search_term = self.search_entry.get()\n",
    "\n",
    "        # 做一些搜尋的操作，這裡只是將搜尋內容顯示在標籤上\n",
    "        self.result_label.config(text=f\"搜尋結果：{search_term}\")\n",
    "\n",
    "if __name__ == \"__main__\":\n",
    "    root = tk.Tk()\n",
    "    app = SearchApp(root)\n",
    "    root.mainloop()\n"
   ]
  },
  {
   "cell_type": "code",
   "execution_count": 1,
   "metadata": {},
   "outputs": [
    {
     "data": {
      "text/plain": [
       "'/Users/rachelyeh/Documents/Python應用實戰/課程資料/徐國堂/GitHub/11209Python_school/.venv/lib/python3.10/site-packages/matplotlib/mpl-data/matplotlibrc'"
      ]
     },
     "execution_count": 1,
     "metadata": {},
     "output_type": "execute_result"
    }
   ],
   "source": [
    "import matplotlib\n",
    "matplotlib.matplotlib_fname()"
   ]
  }
 ],
 "metadata": {
  "kernelspec": {
   "display_name": ".venv",
   "language": "python",
   "name": "python3"
  },
  "language_info": {
   "codemirror_mode": {
    "name": "ipython",
    "version": 3
   },
   "file_extension": ".py",
   "mimetype": "text/x-python",
   "name": "python",
   "nbconvert_exporter": "python",
   "pygments_lexer": "ipython3",
   "version": "3.10.8"
  }
 },
 "nbformat": 4,
 "nbformat_minor": 2
}
