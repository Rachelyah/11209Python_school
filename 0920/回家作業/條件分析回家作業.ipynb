{
 "cells": [
  {
   "cell_type": "markdown",
   "metadata": {},
   "source": [
    "### BMI計算後分析\n",
    "![](https://raw.githubusercontent.com/roberthsu2003/__11209python_school__/main/images/pic1.png)"
   ]
  },
  {
   "cell_type": "code",
   "execution_count": 10,
   "metadata": {},
   "outputs": [
    {
     "name": "stdout",
     "output_type": "stream",
     "text": [
      "請輸入身高，單位為（公分）：177.0\n",
      "請輸入體重，單位為（公斤）：80.0\n",
      "您的BMI是:25.53544639152223\n",
      "您的體重過重\n"
     ]
    }
   ],
   "source": [
    "import pyinputplus as pyip\n",
    "cm = pyip.inputFloat(\"請輸入身高，單位為（公分）：\",min=0)\n",
    "print(cm)\n",
    "kg = pyip.inputFloat(\"請輸入體重，單位為（公斤）：\", min=0)\n",
    "print(kg)\n",
    "\n",
    "# BMI公式＝體重（公斤）除以 身高平方（公尺）\n",
    "\n",
    "bmi=kg / (cm/100) ** 2\n",
    "print(f\"您的BMI是:{bmi}\")\n",
    "\n",
    "if bmi > 30:\n",
    "    body=\"肥胖\"\n",
    "elif bmi > 25:\n",
    "    body=\"過重\"\n",
    "elif bmi > 18.5:\n",
    "    body=\"正常\"\n",
    "else:\n",
    "    body=\"太輕\"\n",
    "\n",
    "print(f\"您的體重{body}\")\n"
   ]
  },
  {
   "cell_type": "markdown",
   "metadata": {},
   "source": [
    "### 血壓分析\n",
    "![](https://raw.githubusercontent.com/roberthsu2003/__11209python_school__/e1b5201c003dde766fa3a411b0bbbdc73e134260/images/pic2.png)"
   ]
  },
  {
   "cell_type": "code",
   "execution_count": 29,
   "metadata": {},
   "outputs": [
    {
     "name": "stdout",
     "output_type": "stream",
     "text": [
      "請輸入收縮壓：130\n",
      "請輸入舒張壓：87\n",
      "你的高血壓數據:血壓升高\n"
     ]
    }
   ],
   "source": [
    "import pyinputplus as pyip\n",
    "sbp = pyip.inputInt(\"請輸入收縮壓：\")\n",
    "print(sbp)\n",
    "dbp = pyip.inputInt(\"請輸入舒張壓：\")\n",
    "print(dbp)\n",
    "\n",
    "if sbp < 120 and dbp < 80:\n",
    "    acc=\"正常\"\n",
    "elif 120< sbp <129 and dbp < 80:\n",
    "    acc='血壓升高'\n",
    "elif 130< sbp <139 or 89 < dbp <80 :\n",
    "    acc='高血壓一期'\n",
    "elif sbp >= 130 and dbp < 80:\n",
    "    acc='單純收縮期高血壓'\n",
    "elif sbp >= 140 or dbp >= 90:\n",
    "    acc='高血壓二期'\n",
    "\n",
    "\n",
    "print(f\"你的高血壓數據:{acc}\")\n"
   ]
  }
 ],
 "metadata": {
  "kernelspec": {
   "display_name": ".venv",
   "language": "python",
   "name": "python3"
  },
  "language_info": {
   "codemirror_mode": {
    "name": "ipython",
    "version": 3
   },
   "file_extension": ".py",
   "mimetype": "text/x-python",
   "name": "python",
   "nbconvert_exporter": "python",
   "pygments_lexer": "ipython3",
   "version": "3.10.8"
  },
  "orig_nbformat": 4
 },
 "nbformat": 4,
 "nbformat_minor": 2
}
