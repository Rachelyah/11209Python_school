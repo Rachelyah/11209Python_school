{
 "cells": [
  {
   "cell_type": "markdown",
   "metadata": {},
   "source": [
    "## if / else 判斷式\n",
    "程式沒有智慧，每次執行都是全部執行\n",
    "加入判斷，讓每次程式執行都有不一樣的結果\n",
    "- 同一個程式區塊縮排必須一致，若無特殊通常都用一個tab鍵"
   ]
  },
  {
   "cell_type": "code",
   "execution_count": 6,
   "metadata": {},
   "outputs": [
    {
     "name": "stdout",
     "output_type": "stream",
     "text": [
      "成年\n",
      "計算後總分為313.95\n",
      "計算後總分為300\n"
     ]
    }
   ],
   "source": [
    "'''單向選擇(有可能執行，也有可能不執行)'''\n",
    "# 只有 if bool: True的程式區塊，是True才會執行\n",
    "# 若是False，就會跳過，繼續執行後面的程式碼\n",
    "\n",
    "'''雙向選擇(一定會擇一執行)'''\n",
    "# if bool：\n",
    "    # True：執行True程式區塊\n",
    "    # False： 執行False程式區塊>>>else\n",
    "# else\n",
    "\n",
    "age = 21\n",
    "if age > 18: #判斷為True\n",
    "    print (\"成年\") \n",
    "# 得 成年\n",
    "\n",
    "# 總分300分，有些人能加分5%\n",
    "# 輸入分數後，確認是否有加分條件\n",
    "\n",
    "scores=int(input(\"請輸入學生分數：\"))\n",
    "is_add=input(\"是否符合加分條件(y, n)？\")\n",
    "if is_add == \"y\":\n",
    "    scores*= 1.05\n",
    "print(f\"計算後總分為{scores}\")\n",
    "\n",
    "# 如果超過300分，就以300分為準\n",
    "# 巢狀判斷>判斷式內的判斷式\n",
    "scores=int(input(\"請輸入學生分數：\"))\n",
    "is_add=input(\"是否符合加分條件(y, n)？\")\n",
    "if is_add == \"y\":\n",
    "    scores*= 1.05\n",
    "    if scores > 300:\n",
    "        scores = 300\n",
    "print(f\"計算後總分為{scores}\")"
   ]
  },
  {
   "cell_type": "code",
   "execution_count": 12,
   "metadata": {},
   "outputs": [
    {
     "name": "stdout",
     "output_type": "stream",
     "text": [
      "學生分數不可高於300分\n"
     ]
    }
   ],
   "source": [
    "# 會不會有豬頭一開始就給超過300的分數？會\n",
    "# 在輸入分數的時候就寫入if，超過300的話就退件\n",
    "scores=int(input(\"請輸入學生分數：\"))\n",
    "if scores < 300:\n",
    "    is_add=input(\"是否符合加分條件(y, n)？\")\n",
    "    if is_add == \"y\":\n",
    "        scores*= 1.05\n",
    "        if scores > 300:\n",
    "            scores = 300\n",
    "    print(f\"計算後總分為{scores}\")\n",
    "else:\n",
    "    print(\"學生分數不可高於300分\")"
   ]
  },
  {
   "cell_type": "code",
   "execution_count": 18,
   "metadata": {},
   "outputs": [
    {
     "name": "stdout",
     "output_type": "stream",
     "text": [
      "輸入格式有錯誤\n"
     ]
    }
   ],
   "source": [
    "# 如果不是輸入整數分數？(e.g.輸入314a) 會出現 raise ValueError\n",
    "# 不希望整個當機，分隔為不同程式區塊\n",
    "# try:\n",
    "    # 如果出現raise ValueError，停止執行try區塊\n",
    "    # 如果沒出錯，繼續執行try，通常會把這邊的寫到else\n",
    "# except:\n",
    "    # raise ValueError 發生時，except開始執行\n",
    "# else:\n",
    "    # 沒有raise ValueError ，執行else\n",
    "\n",
    "try:\n",
    "    scores=int(input(\"請輸入學生分數(最高分為300分)：\"))  \n",
    "    #若輸入錯誤出現raise ValueError\n",
    "\n",
    "except:\n",
    "    print(\"輸入格式有錯誤\")\n",
    "    #raise ValueError時執行這裡\n",
    "\n",
    "else:\n",
    "    if scores < 300:\n",
    "        is_add=input(\"是否符合加分條件(y, n)？\")\n",
    "        if is_add == \"y\":\n",
    "            scores*= 1.05\n",
    "            if scores > 300:\n",
    "                scores = 300\n",
    "        print(f\"計算後總分為{scores}\")\n",
    "    else:\n",
    "        print(\"學生分數不可高於300分\")\n",
    "    #若無錯誤擇繼續執行這邊"
   ]
  },
  {
   "cell_type": "markdown",
   "metadata": {},
   "source": [
    "## 關係運算子\n",
    "關係運算子也會傳出值，只會傳出booleans布林值 (True/False)\n",
    "- <     小於\n",
    "- <=    小於等於\n",
    "- >     大於\n",
    "- >=    大於等於\n",
    "- ==    比較兩個數值是否相等？\n",
    "- !=    比較兩個數值是否不相等？"
   ]
  },
  {
   "cell_type": "code",
   "execution_count": 7,
   "metadata": {},
   "outputs": [
    {
     "data": {
      "text/plain": [
       "True"
      ]
     },
     "execution_count": 7,
     "metadata": {},
     "output_type": "execute_result"
    }
   ],
   "source": [
    "'''關係運算子'''\n",
    "5 == 5, 5!=5\n",
    "3 <  1\n",
    "9 >= 3\n",
    "1 <= 1"
   ]
  }
 ],
 "metadata": {
  "kernelspec": {
   "display_name": ".venv",
   "language": "python",
   "name": "python3"
  },
  "language_info": {
   "codemirror_mode": {
    "name": "ipython",
    "version": 3
   },
   "file_extension": ".py",
   "mimetype": "text/x-python",
   "name": "python",
   "nbconvert_exporter": "python",
   "pygments_lexer": "ipython3",
   "version": "3.10.8"
  },
  "orig_nbformat": 4
 },
 "nbformat": 4,
 "nbformat_minor": 2
}
