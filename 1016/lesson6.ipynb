{
 "cells": [
  {
   "cell_type": "code",
   "execution_count": 1,
   "metadata": {},
   "outputs": [
    {
     "ename": "ModuleNotFoundError",
     "evalue": "No module named 'yfinance'",
     "output_type": "error",
     "traceback": [
      "\u001b[1;31m---------------------------------------------------------------------------\u001b[0m",
      "\u001b[1;31mModuleNotFoundError\u001b[0m                       Traceback (most recent call last)",
      "\u001b[1;32mc:\\Rachel\\GitHub\\11209Python_school\\1016\\lesson6.ipynb 儲存格 1\u001b[0m line \u001b[0;36m3\n\u001b[0;32m      <a href='vscode-notebook-cell:/c%3A/Rachel/GitHub/11209Python_school/1016/lesson6.ipynb#W0sZmlsZQ%3D%3D?line=0'>1</a>\u001b[0m \u001b[39m#安裝yfinance套件(yahoo股市)\u001b[39;00m\n\u001b[1;32m----> <a href='vscode-notebook-cell:/c%3A/Rachel/GitHub/11209Python_school/1016/lesson6.ipynb#W0sZmlsZQ%3D%3D?line=2'>3</a>\u001b[0m \u001b[39mimport\u001b[39;00m \u001b[39myfinance\u001b[39;00m \u001b[39mas\u001b[39;00m \u001b[39myf\u001b[39;00m \u001b[39m#套件沒讀到\u001b[39;00m\n\u001b[0;32m      <a href='vscode-notebook-cell:/c%3A/Rachel/GitHub/11209Python_school/1016/lesson6.ipynb#W0sZmlsZQ%3D%3D?line=3'>4</a>\u001b[0m data \u001b[39m=\u001b[39m yf\u001b[39m.\u001b[39mdownload(\u001b[39m\"\u001b[39m\u001b[39mSPY AAPL\u001b[39m\u001b[39m\"\u001b[39m, period\u001b[39m=\u001b[39m\u001b[39m\"\u001b[39m\u001b[39m1mo\u001b[39m\u001b[39m\"\u001b[39m)\n\u001b[0;32m      <a href='vscode-notebook-cell:/c%3A/Rachel/GitHub/11209Python_school/1016/lesson6.ipynb#W0sZmlsZQ%3D%3D?line=4'>5</a>\u001b[0m data\n",
      "\u001b[1;31mModuleNotFoundError\u001b[0m: No module named 'yfinance'"
     ]
    }
   ],
   "source": [
    "#安裝yfinance套件(yahoo股市)\n",
    "\n",
    "import yfinance as yf #套件沒讀到\n",
    "data = yf.download(\"2330.TW\", start=\"2303-01-01\")\n",
    "data"
   ]
  },
  {
   "cell_type": "code",
   "execution_count": null,
   "metadata": {},
   "outputs": [],
   "source": [
    "#把台積電股票的數據存成csv檔\n",
    "import yfinance as yf #套件沒讀到\n",
    "data = yf.download(\"SPY AAPL\", period=\"1mo\")\n",
    "data.to_csv('台積電.csv')"
   ]
  }
 ],
 "metadata": {
  "kernelspec": {
   "display_name": ".venv",
   "language": "python",
   "name": "python3"
  },
  "language_info": {
   "codemirror_mode": {
    "name": "ipython",
    "version": 3
   },
   "file_extension": ".py",
   "mimetype": "text/x-python",
   "name": "python",
   "nbconvert_exporter": "python",
   "pygments_lexer": "ipython3",
   "version": "3.10.8"
  }
 },
 "nbformat": 4,
 "nbformat_minor": 2
}
