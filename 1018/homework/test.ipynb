{
 "cells": [
  {
   "cell_type": "code",
   "execution_count": 14,
   "metadata": {},
   "outputs": [],
   "source": [
    "import tkinter as tk\n",
    "\n",
    "class Window(tk.Tk):\n",
    "    def __init__(self):\n",
    "        super().__init__()\n",
    "        self.title(\"Hello Tkinter\")\n",
    "\n",
    "        self.label = tk.Label(self, text=\"Choose One\")\n",
    "        self.label.pack(fill=tk.BOTH, expand=1, padx=100, pady=30)\n",
    "\n",
    "        hello_button = tk.Button(self, text=\"Say Hello\", command=self.say_hello)\n",
    "        hello_button.pack(side=tk.LEFT, padx=(20, 0), pady=(0, 20))\n",
    "\n",
    "        goodbye_button = tk.Button(self, text=\"Say Goodbye\", command=self.say_goodbye)\n",
    "        goodbye_button.pack(side=tk.RIGHT, padx=(0, 20), pady=(0, 20))\n",
    "\n",
    "    def say_hello(self):\n",
    "        self.label.configure(text=\"Hello World!\")\n",
    "\n",
    "    def say_goodbye(self):\n",
    "        self.label.configure(text=\"Goodbye! \\n (Closing in 2 seconds)\")\n",
    "        self.after(2000, self.destroy)\n",
    "\n",
    "\n",
    "if __name__ == \"__main__\":\n",
    "    window = Window()\n",
    "    window.mainloop()"
   ]
  },
  {
   "cell_type": "code",
   "execution_count": null,
   "metadata": {},
   "outputs": [],
   "source": []
  }
 ],
 "metadata": {
  "kernelspec": {
   "display_name": ".venv",
   "language": "python",
   "name": "python3"
  },
  "language_info": {
   "codemirror_mode": {
    "name": "ipython",
    "version": 3
   },
   "file_extension": ".py",
   "mimetype": "text/x-python",
   "name": "python",
   "nbconvert_exporter": "python",
   "pygments_lexer": "ipython3",
   "version": "3.10.8"
  }
 },
 "nbformat": 4,
 "nbformat_minor": 2
}
