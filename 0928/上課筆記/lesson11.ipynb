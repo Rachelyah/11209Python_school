{
 "cells": [
  {
   "cell_type": "code",
   "execution_count": 2,
   "metadata": {},
   "outputs": [
    {
     "name": "stdout",
     "output_type": "stream",
     "text": [
      "<class 'str'>\n",
      "<class 'int'>\n",
      "<class 'float'>\n",
      "<class 'bool'>\n"
     ]
    }
   ],
   "source": [
    "# 純值就是python內建的class 就能建立實體\n",
    "print(type(\"hello! world\"))\n",
    "print(type(13))\n",
    "print(type(13.0))\n",
    "print(type(True))"
   ]
  },
  {
   "cell_type": "code",
   "execution_count": 1,
   "metadata": {},
   "outputs": [],
   "source": [
    "# 建立class第一個字建議要用大寫\n",
    "# 自訂class一定要有init(initalizer型別)，如果你沒寫的話會有預設的實體\n",
    "\n",
    "class Person:\n",
    "    pass\n",
    "class Student:\n",
    "    pass # 暫時不想寫，python規定程式區塊最多要有一行程式"
   ]
  },
  {
   "cell_type": "code",
   "execution_count": 17,
   "metadata": {},
   "outputs": [
    {
     "name": "stdout",
     "output_type": "stream",
     "text": [
      "<class '__main__.Person'>\n"
     ]
    }
   ],
   "source": [
    "# 自建的class，會傳出一個實體，需要一個變數去接收實體(p1)\n",
    "# 得出的__main__.代表：這份文件(你建立實體的位置)，這是文件的預設名字\n",
    "# 現在p1的變數接收了person的物件，我可以在裡面動態建立關於p1的資料\n",
    "# 透過p1.name的方式(中間用點運算子隔開)\n",
    "\n",
    "p1 = Person()\n",
    "print(type(p1))\n",
    "p1.name = 'robert'\n",
    "p1.age = 25\n",
    "p1.isMan = False #代表是女生 "
   ]
  },
  {
   "cell_type": "code",
   "execution_count": 18,
   "metadata": {},
   "outputs": [
    {
     "name": "stdout",
     "output_type": "stream",
     "text": [
      "robert\n",
      "25\n",
      "False\n"
     ]
    }
   ],
   "source": [
    "# 呼叫出p1裡面儲存的attribute屬性\n",
    "\n",
    "print(p1.name)\n",
    "print(p1.age)\n",
    "print(p1.isMan)"
   ]
  },
  {
   "cell_type": "code",
   "execution_count": 10,
   "metadata": {},
   "outputs": [
    {
     "name": "stdout",
     "output_type": "stream",
     "text": [
      "True\n"
     ]
    }
   ],
   "source": [
    "# 用isinstance 查詢實體物件與class是否關聯\n",
    "print(isinstance(p1, Person))"
   ]
  },
  {
   "cell_type": "code",
   "execution_count": 19,
   "metadata": {},
   "outputs": [
    {
     "name": "stdout",
     "output_type": "stream",
     "text": [
      "<class '__main__.Person'>\n"
     ]
    }
   ],
   "source": [
    "# 同一個class是可以建立多個物件實體\n",
    "p2 = Person()\n",
    "print(type(p2))\n",
    "p2.name = 'Alice'\n",
    "p2.age = 18\n",
    "p2.isMan = False #代表是女生 \n",
    "p2.weight = 70\n",
    "p2.height = 170"
   ]
  },
  {
   "cell_type": "code",
   "execution_count": 20,
   "metadata": {},
   "outputs": [
    {
     "name": "stdout",
     "output_type": "stream",
     "text": [
      "Alice\n",
      "18\n",
      "False\n",
      "70\n",
      "170\n"
     ]
    }
   ],
   "source": [
    "# 這裡的p2比p1物件設定多兩個屬性attribute\n",
    "# 通常都不會這樣做，同一個class內的objects內attribute屬性設定都會是一樣的\n",
    "\n",
    "print(p2.name)\n",
    "print(p2.age)\n",
    "print(p2.isMan)\n",
    "print(p2.weight)\n",
    "print(p2.height)"
   ]
  },
  {
   "cell_type": "code",
   "execution_count": 23,
   "metadata": {},
   "outputs": [],
   "source": [
    "# 自訂init寫法\n",
    "# 如果有自訂的，預設的就會自動消失(等於前面你呼叫過的同一個p1都會是錯的)\n",
    "# self等於遙控器的功能，可以叫出物件裡面的屬性\n",
    "# 有些物件可能不是全部的屬性都有設定，可以跟下面一樣定義型別之後，也備註他有可能是None\n",
    "\n",
    "class Person:\n",
    "    def __init__ (self, name:str, isMan:bool, age:int, weight:int|None=None, height:int|None=None):\n",
    "        self.name = name\n",
    "        self.isMan = isMan\n",
    "        self.age = age\n",
    "        self.weight = weight\n",
    "        self.height = height\n",
    "\n",
    "# repr 有點像是objects的使用說明書？\n",
    "# repr一定要傳出字串str\n",
    "# 可以透過repr指定要回傳的內容(告訴你我這個物件的定義，並且開遙控器轉到name告訴你我誰)\n",
    "    def __repr__(self) -> str:\n",
    "        return f'我是Person的實體物件, name = {self.name}'\n",
    "\n",
    "class Student:\n",
    "    pass"
   ]
  },
  {
   "cell_type": "code",
   "execution_count": 24,
   "metadata": {},
   "outputs": [
    {
     "name": "stdout",
     "output_type": "stream",
     "text": [
      "<class '__main__.Person'>\n",
      "robert\n",
      "25\n",
      "False\n",
      "None\n",
      "None\n",
      "我是Person的實體物件, name = robert\n"
     ]
    }
   ],
   "source": [
    "# 當p1沒有設定身高與體重的屬性，所以自動出現None\n",
    "# 所以這邊的print就會回傳字串\n",
    "\n",
    "p1=Person(\"robert\", False, 25)\n",
    "print(type(p1))\n",
    "print(p1.name)\n",
    "print(p1.age)\n",
    "print(p1.isMan)\n",
    "print(p1.weight)\n",
    "print(p1.height)\n",
    "\n",
    "print(p1)"
   ]
  }
 ],
 "metadata": {
  "kernelspec": {
   "display_name": ".venv",
   "language": "python",
   "name": "python3"
  },
  "language_info": {
   "codemirror_mode": {
    "name": "ipython",
    "version": 3
   },
   "file_extension": ".py",
   "mimetype": "text/x-python",
   "name": "python",
   "nbconvert_exporter": "python",
   "pygments_lexer": "ipython3",
   "version": "3.10.8"
  },
  "orig_nbformat": 4
 },
 "nbformat": 4,
 "nbformat_minor": 2
}
