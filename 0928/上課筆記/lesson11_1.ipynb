{
 "cells": [
  {
   "cell_type": "code",
   "execution_count": 34,
   "metadata": {},
   "outputs": [],
   "source": [
    "# 自訂class，並且設定self屬性、method方法\n",
    "# self = 實體物件\n",
    "\n",
    "class Person:\n",
    "    def __init__(self, n:str, weight:int, height:int):\n",
    "        self.__name = n  #現在我把name設定成__name＞不能讀也不能改\n",
    "        self.weight = weight\n",
    "        self.height = height\n",
    "    # 自訂method\n",
    "    def bmi(self) -> float:\n",
    "        return round(self.weight / (self.height / 100)**2,ndigits=2)\n",
    "    # 加入propery，建立readonly檔案 #可以想成這是一個轉pdf僅供閱讀的手段\n",
    "    # 每寫一個property就要寫一次@property\n",
    "    @property\n",
    "    def name(self) -> str:\n",
    "        return self.__name \n",
    "    @property #我再設定一個getBMI的property，這樣前面的method就不用再寫一次了\n",
    "    def getBMI(self) -> float:\n",
    "        return round(self.weight / (self.height / 100)**2,ndigits=2)\n",
    "\n",
    "    def __str__(self) -> str:\n",
    "        return f\"name={self.name}\\nweight={self.weight}\\nheight={self.height}\"\n",
    "   "
   ]
  },
  {
   "cell_type": "code",
   "execution_count": 25,
   "metadata": {},
   "outputs": [
    {
     "name": "stdout",
     "output_type": "stream",
     "text": [
      "Tayler\n",
      "24.07\n"
     ]
    }
   ],
   "source": [
    "# 寫專案會設定起始點，確定我在這個頁面，才會開始執行程式\n",
    "# __name__ ＞文件名稱\n",
    "# __str__ ＞是給人看的**\n",
    "# __repr__ ＞是給電腦看的**\n",
    "\n",
    "if __name__ == '__main__': #確定我是不是在我要的程式頁面\n",
    "    p1 = Person(\"Tayler\", 78, 180)\n",
    "    print(p1.name)\n",
    "    print(p1.getBMI)\n"
   ]
  },
  {
   "cell_type": "code",
   "execution_count": 10,
   "metadata": {},
   "outputs": [
    {
     "name": "stdout",
     "output_type": "stream",
     "text": [
      "<class '__main__.Person'>\n"
     ]
    }
   ],
   "source": [
    "print(type(p1))"
   ]
  },
  {
   "cell_type": "code",
   "execution_count": null,
   "metadata": {},
   "outputs": [],
   "source": [
    "# private attribute\n",
    "# 我不想讓別人一直改其中一個屬性設定，除非他進到class才能改\n",
    "# e.g. 我原廠出來的東西不能被改\n",
    "# 用法：屬性名稱前面加上__name\n",
    "# 當我設定成private：__name的時候，p1.name()這個值就抓不出來\n",
    "# 但我可以設定一個假的屬性，只開放閱讀，不開放修改-->readonly"
   ]
  },
  {
   "cell_type": "markdown",
   "metadata": {},
   "source": [
    "![Alt text](image-3.png)"
   ]
  },
  {
   "cell_type": "code",
   "execution_count": 44,
   "metadata": {},
   "outputs": [
    {
     "data": {
      "text/plain": [
       "['徐國堂', 3, 3, 5]"
      ]
     },
     "execution_count": 44,
     "metadata": {},
     "output_type": "execute_result"
    }
   ],
   "source": [
    "# 建立List\n",
    "list1 = ['徐國堂', 3, 3, 5]\n",
    "list1"
   ]
  },
  {
   "cell_type": "code",
   "execution_count": 46,
   "metadata": {},
   "outputs": [
    {
     "data": {
      "text/plain": [
       "('徐國堂', 3, 3, 5)"
      ]
     },
     "execution_count": 46,
     "metadata": {},
     "output_type": "execute_result"
    }
   ],
   "source": [
    "# 呼叫List的值，用指定位置呼叫\n",
    "list1[0], list1[1], list1[2], list1[3]"
   ]
  },
  {
   "cell_type": "markdown",
   "metadata": {},
   "source": [
    "![Alt text](image-2.png)"
   ]
  },
  {
   "cell_type": "code",
   "execution_count": 36,
   "metadata": {},
   "outputs": [],
   "source": [
    "dict1 = {'name' : '徐國堂',\n",
    "        'dice1' : '5', \n",
    "        'dice2' : '3', \n",
    "        'dice3' : '3', \n",
    "        'dice4' : 5}"
   ]
  },
  {
   "cell_type": "code",
   "execution_count": 37,
   "metadata": {},
   "outputs": [
    {
     "data": {
      "text/plain": [
       "('徐國堂', '5', '3', '3', 5)"
      ]
     },
     "execution_count": 37,
     "metadata": {},
     "output_type": "execute_result"
    }
   ],
   "source": [
    "dict1['name'], dict1['dice1'], dict1['dice2'], dict1['dice3'], dict1['dice4']"
   ]
  },
  {
   "cell_type": "code",
   "execution_count": null,
   "metadata": {},
   "outputs": [],
   "source": [
    "# 如果我要印出中一個key？用keys\n",
    "\n"
   ]
  }
 ],
 "metadata": {
  "kernelspec": {
   "display_name": ".venv",
   "language": "python",
   "name": "python3"
  },
  "language_info": {
   "codemirror_mode": {
    "name": "ipython",
    "version": 3
   },
   "file_extension": ".py",
   "mimetype": "text/x-python",
   "name": "python",
   "nbconvert_exporter": "python",
   "pygments_lexer": "ipython3",
   "version": "3.10.8"
  },
  "orig_nbformat": 4
 },
 "nbformat": 4,
 "nbformat_minor": 2
}
