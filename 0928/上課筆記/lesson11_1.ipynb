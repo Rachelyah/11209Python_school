{
 "cells": [
  {
   "cell_type": "code",
   "execution_count": 10,
   "metadata": {},
   "outputs": [],
   "source": [
    "# 自訂class，並且設定self屬性、method方法\n",
    "\n",
    "class Person:\n",
    "    def __init__(self, name:str, weight:int, height:int):\n",
    "        self.name = name\n",
    "        self.weight = weight\n",
    "        self.height = height\n",
    "    def __str__(self) -> str:\n",
    "        return f\"name={self.name}\\nweight={self.weight}\\nheight={self.height}\"\n",
    "    \n",
    "    # 自訂method\n",
    "    def bmi(self) -> float:\n",
    "        return round(self.weight / (self.height / 100)**2,ndigits=2)"
   ]
  },
  {
   "cell_type": "code",
   "execution_count": 11,
   "metadata": {},
   "outputs": [
    {
     "name": "stdout",
     "output_type": "stream",
     "text": [
      "name=robert\n",
      "weight=78\n",
      "height=180\n",
      "24.07\n"
     ]
    }
   ],
   "source": [
    "# 寫專案會設定起始點，確定我在這個頁面，才會開始執行程式\n",
    "# __name__ ＞文件名稱\n",
    "# __str__ ＞是給人看的**\n",
    "# __repr__ ＞是給電腦看的**\n",
    "\n",
    "if __name__ == '__main__':\n",
    "    p1 = Person('robert', 78, 180)\n",
    "    print(p1)\n",
    "    print(p1.bmi())"
   ]
  }
 ],
 "metadata": {
  "kernelspec": {
   "display_name": ".venv",
   "language": "python",
   "name": "python3"
  },
  "language_info": {
   "codemirror_mode": {
    "name": "ipython",
    "version": 3
   },
   "file_extension": ".py",
   "mimetype": "text/x-python",
   "name": "python",
   "nbconvert_exporter": "python",
   "pygments_lexer": "ipython3",
   "version": "3.10.8"
  },
  "orig_nbformat": 4
 },
 "nbformat": 4,
 "nbformat_minor": 2
}
