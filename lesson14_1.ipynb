{
 "cells": [
  {
   "cell_type": "code",
   "execution_count": 1,
   "metadata": {},
   "outputs": [
    {
     "ename": "ModuleNotFoundError",
     "evalue": "No module named 'requests'",
     "output_type": "error",
     "traceback": [
      "\u001b[1;31m---------------------------------------------------------------------------\u001b[0m",
      "\u001b[1;31mModuleNotFoundError\u001b[0m                       Traceback (most recent call last)",
      "\u001b[1;32mc:\\Rachel\\GitHub\\11209Python_school\\lesson14_1.ipynb 儲存格 1\u001b[0m line \u001b[0;36m7\n\u001b[0;32m      <a href='vscode-notebook-cell:/c%3A/Rachel/GitHub/11209Python_school/lesson14_1.ipynb#W0sZmlsZQ%3D%3D?line=0'>1</a>\u001b[0m \u001b[39m# 把環境部用api key下載的資料連結傳過來\u001b[39;00m\n\u001b[0;32m      <a href='vscode-notebook-cell:/c%3A/Rachel/GitHub/11209Python_school/lesson14_1.ipynb#W0sZmlsZQ%3D%3D?line=1'>2</a>\u001b[0m \u001b[39m# 但連結中有我自己的api key，不能公開不然會被盜用\u001b[39;00m\n\u001b[0;32m      <a href='vscode-notebook-cell:/c%3A/Rachel/GitHub/11209Python_school/lesson14_1.ipynb#W0sZmlsZQ%3D%3D?line=2'>3</a>\u001b[0m \u001b[39m# 把我的apikey存在password.py裡\u001b[39;00m\n\u001b[0;32m      <a href='vscode-notebook-cell:/c%3A/Rachel/GitHub/11209Python_school/lesson14_1.ipynb#W0sZmlsZQ%3D%3D?line=3'>4</a>\u001b[0m \u001b[39m# 只有我這邊有完整的資料，輸入print(url)的指令才會印出完整密碼\u001b[39;00m\n\u001b[0;32m      <a href='vscode-notebook-cell:/c%3A/Rachel/GitHub/11209Python_school/lesson14_1.ipynb#W0sZmlsZQ%3D%3D?line=5'>6</a>\u001b[0m \u001b[39mimport\u001b[39;00m \u001b[39mpassword\u001b[39;00m\n\u001b[1;32m----> <a href='vscode-notebook-cell:/c%3A/Rachel/GitHub/11209Python_school/lesson14_1.ipynb#W0sZmlsZQ%3D%3D?line=6'>7</a>\u001b[0m \u001b[39mimport\u001b[39;00m \u001b[39mrequests\u001b[39;00m\n\u001b[0;32m      <a href='vscode-notebook-cell:/c%3A/Rachel/GitHub/11209Python_school/lesson14_1.ipynb#W0sZmlsZQ%3D%3D?line=7'>8</a>\u001b[0m url \u001b[39m=\u001b[39m \u001b[39mf\u001b[39m\u001b[39m\"\u001b[39m\u001b[39mhttps://data.moenv.gov.tw/api/v2/aqx_p_07?api_key=\u001b[39m\u001b[39m{\u001b[39;00mpassword\u001b[39m.\u001b[39mapikey\u001b[39m}\u001b[39;00m\u001b[39m\"\u001b[39m\n\u001b[0;32m      <a href='vscode-notebook-cell:/c%3A/Rachel/GitHub/11209Python_school/lesson14_1.ipynb#W0sZmlsZQ%3D%3D?line=8'>9</a>\u001b[0m \u001b[39mprint\u001b[39m (url)\n",
      "\u001b[1;31mModuleNotFoundError\u001b[0m: No module named 'requests'"
     ]
    }
   ],
   "source": [
    "# 把環境部用api key下載的資料連結傳過來\n",
    "# 但連結中有我自己的api key，不能公開不然會被盜用\n",
    "# 把我的apikey存在password.py裡\n",
    "# 只有我這邊有完整的資料，輸入print(url)的指令才會印出完整密碼\n",
    "\n",
    "import password\n",
    "import requests\n",
    "url = f\"https://data.moenv.gov.tw/api/v2/aqx_p_07?api_key={password.apikey}\"\n",
    "print (url)\n",
    "requests.get(url)\n",
    "res = requests.get(url)\n",
    "\n",
    "if res.ok:\n",
    "    print(\"下載成功\")\n",
    "else:\n",
    "    print(\"下載失敗\")"
   ]
  },
  {
   "cell_type": "code",
   "execution_count": null,
   "metadata": {},
   "outputs": [],
   "source": [
    "print(res.text)"
   ]
  },
  {
   "cell_type": "markdown",
   "metadata": {},
   "source": [
    "回家作業\n",
    "建一個ipynb\n",
    "去python的檔案存取裡\n",
    "把裡面的東西做一次(各種下載資料的方式)"
   ]
  }
 ],
 "metadata": {
  "kernelspec": {
   "display_name": ".venv",
   "language": "python",
   "name": "python3"
  },
  "language_info": {
   "codemirror_mode": {
    "name": "ipython",
    "version": 3
   },
   "file_extension": ".py",
   "mimetype": "text/x-python",
   "name": "python",
   "nbconvert_exporter": "python",
   "pygments_lexer": "ipython3",
   "version": "3.10.8"
  },
  "orig_nbformat": 4
 },
 "nbformat": 4,
 "nbformat_minor": 2
}
