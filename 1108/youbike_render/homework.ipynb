{
 "cells": [
  {
   "cell_type": "code",
   "execution_count": 4,
   "metadata": {},
   "outputs": [
    {
     "name": "stdout",
     "output_type": "stream",
     "text": [
      "<connection object at 0x00000143E370F780; dsn: 'user=rachelyah password=xxx dbname=maindb_eef7 host=dpg-cl5g50c72pts73elkvqg-a.singapore-postgres.render.com port=5432', closed: 0>\n",
      "資料匯入成功\n"
     ]
    }
   ],
   "source": [
    "import psycopg2\n",
    "import render_password as rpw\n",
    "\n",
    "#-----------寫入try, except，並利用psycopg2.Error傳出錯誤訊息-----------------\n",
    "try:\n",
    "    conn = psycopg2.connect(database=rpw.DATABASE, \n",
    "                            user=rpw.USER, \n",
    "                            password=rpw.PASSWORD, \n",
    "                            host=rpw.HOST, \n",
    "                            port=\"5432\") #port是defult，固定填5432\n",
    "except psycopg2.Error as e:\n",
    "    print(e)\n",
    "\n",
    "else:\n",
    "    print(conn) #出現<connection object at 0x0000020C374A2AC0... --> 代表連線成功\n",
    "    #conn.close() #連線後的conn一定要關閉\n",
    "\n",
    "#寫入youbike1320筆資料\n",
    "import csv\n",
    "\n",
    "csv_file = 'youbike.csv'\n",
    "cur = conn.cursor()\n",
    "\n",
    "with open(csv_file, 'r', newline='',encoding='utf-8') as csvfile:\n",
    "    csv_reader = csv.reader(csvfile)\n",
    "    for row in csv_reader:\n",
    "            sql = '''INSERT INTO 台北市youbike (站點名稱, 更新時間, 行政區, 地址, 總車輛數, 可借, 可還)\n",
    "                VALUES (%s, %s, %s, %s, %s, %s, %s)'''\n",
    "            cur.execute(sql, row)\n",
    "conn.commit()\n",
    "cur.close()\n",
    "print('資料匯入成功')"
   ]
  }
 ],
 "metadata": {
  "kernelspec": {
   "display_name": ".venv",
   "language": "python",
   "name": "python3"
  },
  "language_info": {
   "codemirror_mode": {
    "name": "ipython",
    "version": 3
   },
   "file_extension": ".py",
   "mimetype": "text/x-python",
   "name": "python",
   "nbconvert_exporter": "python",
   "pygments_lexer": "ipython3",
   "version": "3.10.8"
  }
 },
 "nbformat": 4,
 "nbformat_minor": 2
}
