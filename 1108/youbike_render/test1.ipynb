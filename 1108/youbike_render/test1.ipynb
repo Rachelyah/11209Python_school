{
 "cells": [
  {
   "cell_type": "code",
   "execution_count": 2,
   "metadata": {},
   "outputs": [],
   "source": [
    "import psycopg2\n",
    "import render_password as rpw"
   ]
  },
  {
   "cell_type": "markdown",
   "metadata": {},
   "source": [
    "Exceptions 例外情況\n",
    "\n",
    "[官方文件](https://www.psycopg.org/docs/module.html#exceptions)"
   ]
  },
  {
   "cell_type": "code",
   "execution_count": 5,
   "metadata": {},
   "outputs": [
    {
     "name": "stdout",
     "output_type": "stream",
     "text": [
      "<connection object at 0x0000019EECD03560; dsn: 'user=rachelyah password=xxx dbname=maindb_eef7 host=dpg-cl5g50c72pts73elkvqg-a.singapore-postgres.render.com port=5432', closed: 0>\n"
     ]
    }
   ],
   "source": [
    "#-----------寫入try, except，並利用psycopg2.Error傳出錯誤訊息-----------------\n",
    "try:\n",
    "    conn = psycopg2.connect(database=rpw.DATABASE, \n",
    "                            user=rpw.USER, \n",
    "                            password=rpw.PASSWORD, \n",
    "                            host=rpw.HOST, \n",
    "                            port=\"5432\") #port是defult，固定填5432\n",
    "except psycopg2.Error as e:\n",
    "    print(e)\n",
    "\n",
    "else:\n",
    "    print(conn) #出現<connection object at 0x0000020C374A2AC0... --> 代表連線成功\n",
    "    #conn.close() #連線後的conn一定要關閉"
   ]
  },
  {
   "cell_type": "code",
   "execution_count": 6,
   "metadata": {},
   "outputs": [
    {
     "name": "stdout",
     "output_type": "stream",
     "text": [
      "[(1, 'Youbike2.0_一壽橋', '2023-11-08 10:43:16', '文山區', '樟新街64號前方', 100, 100, 15), (2, 'Youbike2.0_一壽橋', '2023-11-08 10:43:18', '文山區', '樟新街64號前方', 100, 100, 15), (8, 'YouBike2.0_一壽橋', '2023-11-08 10:43:16', '文山區', '樟新街64號前方', 16, 1, 15)]\n"
     ]
    }
   ],
   "source": [
    "#----------------透過cursor直抓取資料庫的資料----------------------\n",
    "\n",
    "sql = '''select * from 台北市youbike'''\n",
    "with conn.cursor() as cursor:\n",
    "    cursor.execute(sql)\n",
    "    #cur.execute(\"SELECT * FROM my_data\")\n",
    "    records = cursor.fetchall()\n",
    "#注意這裡上面的conn.colse()就不能執行，因為要維持練線狀態\n",
    "print(records)"
   ]
  },
  {
   "cell_type": "code",
   "execution_count": null,
   "metadata": {},
   "outputs": [],
   "source": [
    "#----------------寫入新的一筆資料-------------------------\n",
    "sql = '''INSERT INTO 台北市youbike (站點名稱, 更新時間, 行政區, 地址, 總車輛數, 可借, 可還)\n",
    "VALUES('Youbike2.0_一壽橋','2023-11-08 10:43:18', '文山區', '樟新街64號前方',100, 100, 15 )\n",
    "'''\n",
    "\n",
    "with conn.cursor() as cursor:\n",
    "    cursor.execute(sql)\n",
    "    conn.commit() #不會傳出值，請他執行的意思\n",
    "\n",
    "#----------------抓取特定的的值------------------------\n",
    "sql2 = '''\n",
    "select * \n",
    "from 台北市youbike\n",
    "where 站點名稱 = 'Youbike2.0_一壽橋'\n",
    "'''\n",
    "\n",
    "with conn.cursor() as cursor:\n",
    "    cursor.execute(sql2)\n",
    "    records = cursor.fetchall()\n",
    "\n",
    "print(records)"
   ]
  }
 ],
 "metadata": {
  "kernelspec": {
   "display_name": ".venv",
   "language": "python",
   "name": "python3"
  },
  "language_info": {
   "codemirror_mode": {
    "name": "ipython",
    "version": 3
   },
   "file_extension": ".py",
   "mimetype": "text/x-python",
   "name": "python",
   "nbconvert_exporter": "python",
   "pygments_lexer": "ipython3",
   "version": "3.10.8"
  }
 },
 "nbformat": 4,
 "nbformat_minor": 2
}
