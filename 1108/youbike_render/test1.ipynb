{
 "cells": [
  {
   "cell_type": "code",
   "execution_count": 9,
   "metadata": {},
   "outputs": [],
   "source": [
    "import psycopg2\n",
    "import render_password as rpw"
   ]
  },
  {
   "cell_type": "markdown",
   "metadata": {},
   "source": [
    "Exceptions 例外情況\n",
    "\n",
    "[官方文件](https://www.psycopg.org/docs/module.html#exceptions)"
   ]
  },
  {
   "cell_type": "code",
   "execution_count": 10,
   "metadata": {},
   "outputs": [
    {
     "name": "stdout",
     "output_type": "stream",
     "text": [
      "<connection object at 0x000001A0725439A0; dsn: 'user=rachelyah password=xxx dbname=maindb_eef7 host=dpg-cl5g50c72pts73elkvqg-a.singapore-postgres.render.com port=5432', closed: 0>\n"
     ]
    }
   ],
   "source": [
    "#-----------寫入try, except，並利用psycopg2.Error傳出錯誤訊息-----------------\n",
    "try:\n",
    "    conn = psycopg2.connect(database=rpw.DATABASE, \n",
    "                            user=rpw.USER, \n",
    "                            password=rpw.PASSWORD, \n",
    "                            host=rpw.HOST, \n",
    "                            port=\"5432\") #port是defult，固定填5432\n",
    "except psycopg2.Error as e:\n",
    "    print(e)\n",
    "\n",
    "else:\n",
    "    print(conn) #出現<connection object at 0x0000020C374A2AC0... --> 代表連線成功\n",
    "    #conn.close() #連線後的conn一定要關閉"
   ]
  },
  {
   "cell_type": "code",
   "execution_count": 11,
   "metadata": {},
   "outputs": [
    {
     "name": "stdout",
     "output_type": "stream",
     "text": [
      "[(1, 'Youbike2.0_一壽橋', '2023-11-08 10:43:16', '文山區', '樟新街64號前方', 100, 100, 15), (2, 'Youbike2.0_一壽橋', '2023-11-08 10:43:18', '文山區', '樟新街64號前方', 100, 100, 15)]\n"
     ]
    }
   ],
   "source": [
    "#----------------透過cursor直抓取資料庫的資料----------------------\n",
    "\n",
    "sql = '''select * from 台北市youbike'''\n",
    "with conn.cursor() as cursor:\n",
    "    cursor.execute(sql)\n",
    "    #cur.execute(\"SELECT * FROM my_data\")\n",
    "    records = cursor.fetchall()\n",
    "#注意這裡上面的conn.colse()就不能執行，因為要維持練線狀態\n",
    "print(records)"
   ]
  },
  {
   "cell_type": "code",
   "execution_count": 13,
   "metadata": {},
   "outputs": [
    {
     "ename": "SyntaxError",
     "evalue": "syntax error at end of input\nLINE 4: \n        ^\n",
     "output_type": "error",
     "traceback": [
      "\u001b[1;31m---------------------------------------------------------------------------\u001b[0m",
      "\u001b[1;31mSyntaxError\u001b[0m                               Traceback (most recent call last)",
      "\u001b[1;32mc:\\Rachel\\GitHub\\11209Python_school-1\\1108\\youbike_render\\test1.ipynb 儲存格 5\u001b[0m line \u001b[0;36m7\n\u001b[0;32m      <a href='vscode-notebook-cell:/c%3A/Rachel/GitHub/11209Python_school-1/1108/youbike_render/test1.ipynb#W4sZmlsZQ%3D%3D?line=1'>2</a>\u001b[0m sql \u001b[39m=\u001b[39m \u001b[39m'''\u001b[39m\u001b[39mINSERT INTO 台北市youbike (站點名稱, 更新時間, 行政區, 地址, 總車輛數, 可借, 可還)\u001b[39m\n\u001b[0;32m      <a href='vscode-notebook-cell:/c%3A/Rachel/GitHub/11209Python_school-1/1108/youbike_render/test1.ipynb#W4sZmlsZQ%3D%3D?line=2'>3</a>\u001b[0m \u001b[39mVALUES(\u001b[39m\u001b[39m'\u001b[39m\u001b[39mYoubike2.0_一壽橋\u001b[39m\u001b[39m'\u001b[39m\u001b[39m,\u001b[39m\u001b[39m'\u001b[39m\u001b[39m2023-11-08 10:43:18\u001b[39m\u001b[39m'\u001b[39m\u001b[39m, \u001b[39m\u001b[39m'\u001b[39m\u001b[39m文山區\u001b[39m\u001b[39m'\u001b[39m\u001b[39m, \u001b[39m\u001b[39m'\u001b[39m\u001b[39m樟新街64號前方\u001b[39m\u001b[39m'\u001b[39m\u001b[39m,100, 100, 15 )\u001b[39m\n\u001b[0;32m      <a href='vscode-notebook-cell:/c%3A/Rachel/GitHub/11209Python_school-1/1108/youbike_render/test1.ipynb#W4sZmlsZQ%3D%3D?line=3'>4</a>\u001b[0m \u001b[39mON CONFLICT (站點名稱) DO UPDATE\u001b[39m\n\u001b[0;32m      <a href='vscode-notebook-cell:/c%3A/Rachel/GitHub/11209Python_school-1/1108/youbike_render/test1.ipynb#W4sZmlsZQ%3D%3D?line=4'>5</a>\u001b[0m \u001b[39m'''\u001b[39m\n\u001b[0;32m      <a href='vscode-notebook-cell:/c%3A/Rachel/GitHub/11209Python_school-1/1108/youbike_render/test1.ipynb#W4sZmlsZQ%3D%3D?line=5'>6</a>\u001b[0m \u001b[39mwith\u001b[39;00m conn\u001b[39m.\u001b[39mcursor() \u001b[39mas\u001b[39;00m cursor:\n\u001b[1;32m----> <a href='vscode-notebook-cell:/c%3A/Rachel/GitHub/11209Python_school-1/1108/youbike_render/test1.ipynb#W4sZmlsZQ%3D%3D?line=6'>7</a>\u001b[0m     cursor\u001b[39m.\u001b[39;49mexecute(sql)\n\u001b[0;32m      <a href='vscode-notebook-cell:/c%3A/Rachel/GitHub/11209Python_school-1/1108/youbike_render/test1.ipynb#W4sZmlsZQ%3D%3D?line=7'>8</a>\u001b[0m     conn\u001b[39m.\u001b[39mcommit() \u001b[39m#不會傳出值，請他執行的意思\u001b[39;00m\n\u001b[0;32m     <a href='vscode-notebook-cell:/c%3A/Rachel/GitHub/11209Python_school-1/1108/youbike_render/test1.ipynb#W4sZmlsZQ%3D%3D?line=9'>10</a>\u001b[0m \u001b[39m#----------------抓取特定的的值------------------------\u001b[39;00m\n",
      "\u001b[1;31mSyntaxError\u001b[0m: syntax error at end of input\nLINE 4: \n        ^\n"
     ]
    }
   ],
   "source": [
    "#----------------寫入新的一筆資料-------------------------\n",
    "sql = '''INSERT INTO 台北市youbike (站點名稱, 更新時間, 行政區, 地址, 總車輛數, 可借, 可還)\n",
    "VALUES('Youbike2.0_一壽橋','2023-11-08 10:43:18', '文山區', '樟新街64號前方',100, 100, 15 )\n",
    "'''\n",
    "\n",
    "with conn.cursor() as cursor:\n",
    "    cursor.execute(sql)\n",
    "    conn.commit() #不會傳出值，請他執行的意思\n",
    "\n",
    "#----------------抓取特定的的值------------------------\n",
    "sql2 = '''\n",
    "select * \n",
    "from 台北市youbike\n",
    "where 站點名稱 = 'Youbike2.0_一壽橋'\n",
    "'''\n",
    "\n",
    "with conn.cursor() as cursor:\n",
    "    cursor.execute(sql2)\n",
    "    records = cursor.fetchall()\n",
    "\n",
    "print(records)"
   ]
  },
  {
   "cell_type": "code",
   "execution_count": 20,
   "metadata": {},
   "outputs": [
    {
     "ename": "UniqueViolation",
     "evalue": "duplicate key value violates unique constraint \"台北市youbike_站點名稱_更新時間_key\"\nDETAIL:  Key (\"站點名稱\", \"更新時間\")=(YouBike2.0_一壽橋, 2023-11-08 10:43:16) already exists.\n",
     "output_type": "error",
     "traceback": [
      "\u001b[1;31m---------------------------------------------------------------------------\u001b[0m",
      "\u001b[1;31mUniqueViolation\u001b[0m                           Traceback (most recent call last)",
      "\u001b[1;32mc:\\Rachel\\GitHub\\11209Python_school-1\\1108\\youbike_render\\test1.ipynb 儲存格 6\u001b[0m line \u001b[0;36m1\n\u001b[0;32m     <a href='vscode-notebook-cell:/c%3A/Rachel/GitHub/11209Python_school-1/1108/youbike_render/test1.ipynb#W5sZmlsZQ%3D%3D?line=10'>11</a>\u001b[0m             station_name, update_time, district, address, total_bikes, available_bikes, available_parking \u001b[39m=\u001b[39m row\n\u001b[0;32m     <a href='vscode-notebook-cell:/c%3A/Rachel/GitHub/11209Python_school-1/1108/youbike_render/test1.ipynb#W5sZmlsZQ%3D%3D?line=11'>12</a>\u001b[0m             sql \u001b[39m=\u001b[39m \u001b[39mf\u001b[39m\u001b[39m\"\u001b[39m\u001b[39mINSERT INTO \u001b[39m\u001b[39m{\u001b[39;00mtable_name\u001b[39m}\u001b[39;00m\u001b[39m (站點名稱, 更新時間, 行政區, 地址, 總車輛數, 可借, 可還) \u001b[39m\u001b[39m\"\u001b[39m \\\n\u001b[0;32m     <a href='vscode-notebook-cell:/c%3A/Rachel/GitHub/11209Python_school-1/1108/youbike_render/test1.ipynb#W5sZmlsZQ%3D%3D?line=12'>13</a>\u001b[0m                 \u001b[39mf\u001b[39m\u001b[39m\"\u001b[39m\u001b[39mVALUES (\u001b[39m\u001b[39m'\u001b[39m\u001b[39m{\u001b[39;00mstation_name\u001b[39m}\u001b[39;00m\u001b[39m'\u001b[39m\u001b[39m, \u001b[39m\u001b[39m'\u001b[39m\u001b[39m{\u001b[39;00mupdate_time\u001b[39m}\u001b[39;00m\u001b[39m'\u001b[39m\u001b[39m, \u001b[39m\u001b[39m'\u001b[39m\u001b[39m{\u001b[39;00mdistrict\u001b[39m}\u001b[39;00m\u001b[39m'\u001b[39m\u001b[39m, \u001b[39m\u001b[39m\"\u001b[39m \\\n\u001b[0;32m     <a href='vscode-notebook-cell:/c%3A/Rachel/GitHub/11209Python_school-1/1108/youbike_render/test1.ipynb#W5sZmlsZQ%3D%3D?line=13'>14</a>\u001b[0m                 \u001b[39mf\u001b[39m\u001b[39m\"\u001b[39m\u001b[39m'\u001b[39m\u001b[39m{\u001b[39;00maddress\u001b[39m}\u001b[39;00m\u001b[39m'\u001b[39m\u001b[39m, \u001b[39m\u001b[39m{\u001b[39;00mtotal_bikes\u001b[39m}\u001b[39;00m\u001b[39m, \u001b[39m\u001b[39m{\u001b[39;00mavailable_bikes\u001b[39m}\u001b[39;00m\u001b[39m, \u001b[39m\u001b[39m{\u001b[39;00mavailable_parking\u001b[39m}\u001b[39;00m\u001b[39m);\u001b[39m\u001b[39m\"\u001b[39m\n\u001b[1;32m---> <a href='vscode-notebook-cell:/c%3A/Rachel/GitHub/11209Python_school-1/1108/youbike_render/test1.ipynb#W5sZmlsZQ%3D%3D?line=14'>15</a>\u001b[0m             cur\u001b[39m.\u001b[39;49mexecute(sql)\n\u001b[0;32m     <a href='vscode-notebook-cell:/c%3A/Rachel/GitHub/11209Python_school-1/1108/youbike_render/test1.ipynb#W5sZmlsZQ%3D%3D?line=15'>16</a>\u001b[0m conn\u001b[39m.\u001b[39mcommit()\n\u001b[0;32m     <a href='vscode-notebook-cell:/c%3A/Rachel/GitHub/11209Python_school-1/1108/youbike_render/test1.ipynb#W5sZmlsZQ%3D%3D?line=16'>17</a>\u001b[0m cur\u001b[39m.\u001b[39mclose()\n",
      "\u001b[1;31mUniqueViolation\u001b[0m: duplicate key value violates unique constraint \"台北市youbike_站點名稱_更新時間_key\"\nDETAIL:  Key (\"站點名稱\", \"更新時間\")=(YouBike2.0_一壽橋, 2023-11-08 10:43:16) already exists.\n"
     ]
    }
   ],
   "source": [
    "#作業：寫入youbike1320筆資料\n",
    "import csv\n",
    "\n",
    "table_name = '台北市youbike'\n",
    "csv_file = 'youbike.csv'\n",
    "cur = conn.cursor()\n",
    "\n",
    "with open(csv_file, 'r', newline='',encoding='utf-8') as csvfile:\n",
    "    csv_reader = csv.reader(csvfile)\n",
    "    for row in csv_reader:\n",
    "            station_name, update_time, district, address, total_bikes, available_bikes, available_parking = row\n",
    "            sql = f\"INSERT INTO {table_name} (站點名稱, 更新時間, 行政區, 地址, 總車輛數, 可借, 可還) \" \\\n",
    "                f\"VALUES ('{station_name}', '{update_time}', '{district}', \" \\\n",
    "                f\"'{address}', {total_bikes}, {available_bikes}, {available_parking});\"\n",
    "            cur.execute(sql)\n",
    "conn.commit()\n",
    "cur.close()"
   ]
  }
 ],
 "metadata": {
  "kernelspec": {
   "display_name": ".venv",
   "language": "python",
   "name": "python3"
  },
  "language_info": {
   "codemirror_mode": {
    "name": "ipython",
    "version": 3
   },
   "file_extension": ".py",
   "mimetype": "text/x-python",
   "name": "python",
   "nbconvert_exporter": "python",
   "pygments_lexer": "ipython3",
   "version": "3.10.8"
  }
 },
 "nbformat": 4,
 "nbformat_minor": 2
}
